{
 "cells": [
  {
   "cell_type": "code",
   "execution_count": 1,
   "id": "c36f885e-cd31-4dcf-9d72-4919bdcc8f7d",
   "metadata": {},
   "outputs": [],
   "source": [
    "import json\n",
    "import os\n",
    "import pandas as pd"
   ]
  },
  {
   "cell_type": "code",
   "execution_count": 39,
   "id": "dac5be8c-1454-4029-a890-2166e83652ef",
   "metadata": {},
   "outputs": [
    {
     "name": "stdout",
     "output_type": "stream",
     "text": [
      "/media/wes/Lexar/rxr_data/rxr-data/rxr_train_guide.jsonl/rxr_train_guide.json exists? True\n"
     ]
    }
   ],
   "source": [
    "data_path = '/media/wes/Lexar/rxr_data/rxr-data/rxr_train_guide.jsonl'\n",
    "file_name = 'rxr_train_guide.json'\n",
    "file_path = os.path.join(data_path, file_name)\n",
    "print(f'{file_path} exists? {os.path.exists(file_path)}')"
   ]
  },
  {
   "cell_type": "code",
   "execution_count": 41,
   "id": "1ed298e4-423c-4649-9ed9-59a5622a6a0d",
   "metadata": {},
   "outputs": [],
   "source": [
    "data = []\n",
    "with open(file_path, 'r') as file:\n",
    "    for line in file:\n",
    "        data.append(json.loads(line))"
   ]
  },
  {
   "cell_type": "code",
   "execution_count": 50,
   "id": "0add398a-d583-4292-a273-81148d9b71a3",
   "metadata": {},
   "outputs": [
    {
     "name": "stdout",
     "output_type": "stream",
     "text": [
      "dataframe shape: (8816, 11)\n",
      "Example instruction: You will start by standing in front of a glass door and on your right is a doorway. Turn around and you will see a doorway to the washroom. Walk towards the doorway and inside the washroom. Once you're there, stand in between the sink and the bathtub and once you're there, you're done.\n"
     ]
    },
    {
     "data": {
      "text/html": [
       "<div>\n",
       "<style scoped>\n",
       "    .dataframe tbody tr th:only-of-type {\n",
       "        vertical-align: middle;\n",
       "    }\n",
       "\n",
       "    .dataframe tbody tr th {\n",
       "        vertical-align: top;\n",
       "    }\n",
       "\n",
       "    .dataframe thead th {\n",
       "        text-align: right;\n",
       "    }\n",
       "</style>\n",
       "<table border=\"1\" class=\"dataframe\">\n",
       "  <thead>\n",
       "    <tr style=\"text-align: right;\">\n",
       "      <th></th>\n",
       "      <th>path_id</th>\n",
       "      <th>split</th>\n",
       "      <th>scan</th>\n",
       "      <th>heading</th>\n",
       "      <th>path</th>\n",
       "      <th>instruction_id</th>\n",
       "      <th>annotator_id</th>\n",
       "      <th>language</th>\n",
       "      <th>instruction</th>\n",
       "      <th>timed_instruction</th>\n",
       "      <th>edit_distance</th>\n",
       "    </tr>\n",
       "  </thead>\n",
       "  <tbody>\n",
       "    <tr>\n",
       "      <th>0</th>\n",
       "      <td>0</td>\n",
       "      <td>train</td>\n",
       "      <td>SN83YJsR3w2</td>\n",
       "      <td>2.631565</td>\n",
       "      <td>[4471fcf26b3847ed88ce41eca5ecb13d, b2b0b597ef2...</td>\n",
       "      <td>0</td>\n",
       "      <td>0</td>\n",
       "      <td>en-US</td>\n",
       "      <td>You will start by standing in front of a glass...</td>\n",
       "      <td>[{'end_time': 1.5, 'word': 'You', 'start_time'...</td>\n",
       "      <td>0.076923</td>\n",
       "    </tr>\n",
       "    <tr>\n",
       "      <th>21</th>\n",
       "      <td>12</td>\n",
       "      <td>train</td>\n",
       "      <td>7y3sRwLe3Va</td>\n",
       "      <td>5.875003</td>\n",
       "      <td>[60ce99b0264148c09db7ef836ad77e3f, dd83fb40a2e...</td>\n",
       "      <td>28</td>\n",
       "      <td>44</td>\n",
       "      <td>en-US</td>\n",
       "      <td>You're starting in a closet, facing empty shel...</td>\n",
       "      <td>[{'start_time': 3.5, 'end_time': 3.8, 'word': ...</td>\n",
       "      <td>0.061920</td>\n",
       "    </tr>\n",
       "    <tr>\n",
       "      <th>47</th>\n",
       "      <td>24</td>\n",
       "      <td>train</td>\n",
       "      <td>S9hNv5qa7GM</td>\n",
       "      <td>4.879265</td>\n",
       "      <td>[65683a5cc3564769947019eb7e63ef0d, bd9faec23bb...</td>\n",
       "      <td>60</td>\n",
       "      <td>81</td>\n",
       "      <td>en-US</td>\n",
       "      <td>You begin facing a wall, turn to your left, ta...</td>\n",
       "      <td>[{'word': 'You', 'start_time': 1.0, 'end_time'...</td>\n",
       "      <td>0.041667</td>\n",
       "    </tr>\n",
       "    <tr>\n",
       "      <th>54</th>\n",
       "      <td>27</td>\n",
       "      <td>train</td>\n",
       "      <td>ur6pFq6Qu1A</td>\n",
       "      <td>2.913781</td>\n",
       "      <td>[23b6df4fc549460daab1c23d3674f845, 96b2d4806ff...</td>\n",
       "      <td>67</td>\n",
       "      <td>86</td>\n",
       "      <td>en-US</td>\n",
       "      <td>You're looking at a Japanese decorative plate ...</td>\n",
       "      <td>[{'start_time': 2.5, 'end_time': 3.0, 'word': ...</td>\n",
       "      <td>0.137037</td>\n",
       "    </tr>\n",
       "    <tr>\n",
       "      <th>55</th>\n",
       "      <td>29</td>\n",
       "      <td>train</td>\n",
       "      <td>mJXqzFtmKg4</td>\n",
       "      <td>1.764716</td>\n",
       "      <td>[b7dd551438384d4da9530d3815d3aa90, 50d87f990a7...</td>\n",
       "      <td>71</td>\n",
       "      <td>81</td>\n",
       "      <td>en-US</td>\n",
       "      <td>You begin facing a bunch of cabinets, moving s...</td>\n",
       "      <td>[{'start_time': 1.4, 'word': 'You', 'end_time'...</td>\n",
       "      <td>0.070600</td>\n",
       "    </tr>\n",
       "  </tbody>\n",
       "</table>\n",
       "</div>"
      ],
      "text/plain": [
       "    path_id  split         scan   heading  \\\n",
       "0         0  train  SN83YJsR3w2  2.631565   \n",
       "21       12  train  7y3sRwLe3Va  5.875003   \n",
       "47       24  train  S9hNv5qa7GM  4.879265   \n",
       "54       27  train  ur6pFq6Qu1A  2.913781   \n",
       "55       29  train  mJXqzFtmKg4  1.764716   \n",
       "\n",
       "                                                 path  instruction_id  \\\n",
       "0   [4471fcf26b3847ed88ce41eca5ecb13d, b2b0b597ef2...               0   \n",
       "21  [60ce99b0264148c09db7ef836ad77e3f, dd83fb40a2e...              28   \n",
       "47  [65683a5cc3564769947019eb7e63ef0d, bd9faec23bb...              60   \n",
       "54  [23b6df4fc549460daab1c23d3674f845, 96b2d4806ff...              67   \n",
       "55  [b7dd551438384d4da9530d3815d3aa90, 50d87f990a7...              71   \n",
       "\n",
       "    annotator_id language                                        instruction  \\\n",
       "0              0    en-US  You will start by standing in front of a glass...   \n",
       "21            44    en-US  You're starting in a closet, facing empty shel...   \n",
       "47            81    en-US  You begin facing a wall, turn to your left, ta...   \n",
       "54            86    en-US  You're looking at a Japanese decorative plate ...   \n",
       "55            81    en-US  You begin facing a bunch of cabinets, moving s...   \n",
       "\n",
       "                                    timed_instruction  edit_distance  \n",
       "0   [{'end_time': 1.5, 'word': 'You', 'start_time'...       0.076923  \n",
       "21  [{'start_time': 3.5, 'end_time': 3.8, 'word': ...       0.061920  \n",
       "47  [{'word': 'You', 'start_time': 1.0, 'end_time'...       0.041667  \n",
       "54  [{'start_time': 2.5, 'end_time': 3.0, 'word': ...       0.137037  \n",
       "55  [{'start_time': 1.4, 'word': 'You', 'end_time'...       0.070600  "
      ]
     },
     "execution_count": 50,
     "metadata": {},
     "output_type": "execute_result"
    }
   ],
   "source": [
    "df = pd.DataFrame(data)\n",
    "df = df[df['language']=='en-US']\n",
    "print(f'dataframe shape: {df.shape}')\n",
    "print(f'Example instruction: {df[\"instruction\"].iloc[0]}')\n",
    "df.head()"
   ]
  },
  {
   "cell_type": "code",
   "execution_count": null,
   "id": "06bd8e16-e7e3-48d8-8a50-e48491ef4837",
   "metadata": {},
   "outputs": [],
   "source": []
  }
 ],
 "metadata": {
  "kernelspec": {
   "display_name": "Python 3 (ipykernel)",
   "language": "python",
   "name": "python3"
  },
  "language_info": {
   "codemirror_mode": {
    "name": "ipython",
    "version": 3
   },
   "file_extension": ".py",
   "mimetype": "text/x-python",
   "name": "python",
   "nbconvert_exporter": "python",
   "pygments_lexer": "ipython3",
   "version": "3.9.19"
  }
 },
 "nbformat": 4,
 "nbformat_minor": 5
}
