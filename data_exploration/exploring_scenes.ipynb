{
 "cells": [
  {
   "cell_type": "markdown",
   "id": "680ad8b7-7581-4ba3-abc1-766bf4857e0f",
   "metadata": {},
   "source": [
    "# Preamble\n",
    "Setting up:\n",
    " - Required modules\n",
    " - Folder paths\n",
    " - Useful functions\n",
    " - Creating simulator instance and reading in the data"
   ]
  },
  {
   "cell_type": "code",
   "execution_count": 34,
   "id": "2da0df8e-8d08-49b4-9ec4-3d09822df556",
   "metadata": {},
   "outputs": [],
   "source": [
    "# Required imports\n",
    "import os\n",
    "import json\n",
    "import numpy as np\n",
    "import pandas as pd\n",
    "import random\n",
    "import imageio\n",
    "import magnum as mn\n",
    "from PIL import Image\n",
    "from matplotlib import pyplot as plt\n",
    "\n",
    "import habitat_sim\n",
    "from habitat_sim.utils import common as utils\n",
    "from habitat_sim.utils import viz_utils as vut\n",
    "import magnum as mn"
   ]
  },
  {
   "cell_type": "code",
   "execution_count": 2,
   "id": "e508ac6c-f689-4888-942e-6a230bbaa51f",
   "metadata": {},
   "outputs": [],
   "source": [
    "# setting up folder paths\n",
    "habitat_dir_path = \"/home/wes/habitat/data/\"\n",
    "scene_dir_path = os.path.join(habitat_dir_path, f\"scene_datasets/mp3d/\")\n",
    "rxr_data_path = \"/media/wes/Lexar/rxr_data/rxr-data/\"\n",
    "output_path = \"/home/wes/Documents/git_ws/OCOM5300M_ResearchProject/outputs/\"\n",
    "\n",
    "mp3d_scene_config = os.path.join(scene_dir_path, f\"mp3d.scene_dataset_config.json\")\n",
    "\n",
    "def get_scene_path(scene_dir_path, scene_id):\n",
    "    return os.path.join(scene_dir_path, f\"{scene_id}/{scene_id}.glb\")"
   ]
  },
  {
   "cell_type": "code",
   "execution_count": 3,
   "id": "d749e10d-0c13-42fa-9a91-d4cc12bce250",
   "metadata": {},
   "outputs": [
    {
     "name": "stdout",
     "output_type": "stream",
     "text": [
      "mp3d_scene_config: /home/wes/habitat/data/scene_datasets/mp3d/mp3d.scene_dataset_config.json, \t exists: True\n",
      "scene_path: /home/wes/habitat/data/scene_datasets/mp3d/2t7WUuJeko7/2t7WUuJeko7.glb, \t exists: True\n"
     ]
    }
   ],
   "source": [
    "scene_id = \"2t7WUuJeko7\"\n",
    "scene_path = get_scene_path(scene_dir_path, scene_id)\n",
    "\n",
    "print(f\"mp3d_scene_config: {mp3d_scene_config}, \\t exists: {os.path.exists(mp3d_scene_config)}\")\n",
    "print(f\"scene_path: {scene_path}, \\t exists: {os.path.exists(scene_path)}\")"
   ]
  },
  {
   "cell_type": "markdown",
   "id": "9c1412c8-7272-4ddb-9fb4-300a87c22683",
   "metadata": {},
   "source": [
    "## Preamble: Utility Functions\n",
    "### Display observations"
   ]
  },
  {
   "cell_type": "code",
   "execution_count": 4,
   "id": "4d6ec995-cb0f-4f73-be60-288d87c61fe1",
   "metadata": {},
   "outputs": [
    {
     "name": "stderr",
     "output_type": "stream",
     "text": [
      "PluginManager::Manager: duplicate static plugin StbImageImporter, ignoring\n",
      "PluginManager::Manager: duplicate static plugin GltfImporter, ignoring\n",
      "PluginManager::Manager: duplicate static plugin BasisImporter, ignoring\n",
      "PluginManager::Manager: duplicate static plugin AssimpImporter, ignoring\n",
      "PluginManager::Manager: duplicate static plugin AnySceneImporter, ignoring\n",
      "PluginManager::Manager: duplicate static plugin AnyImageImporter, ignoring\n"
     ]
    }
   ],
   "source": [
    "# Change to do something like this maybe: https://stackoverflow.com/a/41432704\n",
    "#    i.e. show multiple subplots on one plot\n",
    "def display_sample(rgb_obs, semantic_obs=np.array([]), depth_obs=np.array([])):\n",
    "    from habitat_sim.utils.common import d3_40_colors_rgb\n",
    "\n",
    "    rgb_img = Image.fromarray(rgb_obs, mode=\"RGBA\")\n",
    "\n",
    "    arr = [rgb_img]\n",
    "    titles = [\"rgb\"]\n",
    "    if semantic_obs.size != 0:\n",
    "        semantic_img = Image.new(\"P\", (semantic_obs.shape[1], semantic_obs.shape[0]))\n",
    "        semantic_img.putpalette(d3_40_colors_rgb.flatten())\n",
    "        semantic_img.putdata((semantic_obs.flatten() % 40).astype(np.uint8))\n",
    "        semantic_img = semantic_img.convert(\"RGBA\")\n",
    "        arr.append(semantic_img)\n",
    "        titles.append(\"semantic\")\n",
    "\n",
    "    if depth_obs.size != 0:\n",
    "        depth_img = Image.fromarray((depth_obs / 10 * 255).astype(np.uint8), mode=\"L\")\n",
    "        arr.append(depth_img)\n",
    "        titles.append(\"depth\")\n",
    "\n",
    "    plt.figure(figsize=(12, 8))\n",
    "    for i, data in enumerate(arr):\n",
    "        ax = plt.subplot(1, 3, i + 1)\n",
    "        ax.axis(\"off\")\n",
    "        ax.set_title(titles[i])\n",
    "        plt.imshow(data)\n",
    "    plt.show(block=False)\n",
    "\n",
    "\n",
    "if __name__ == \"__main__\":\n",
    "    import argparse\n",
    "\n",
    "    parser = argparse.ArgumentParser()\n",
    "    parser.add_argument(\"--no-display\", dest=\"display\", action=\"store_false\")\n",
    "    parser.add_argument(\"--no-make-video\", dest=\"make_video\", action=\"store_false\")\n",
    "    parser.set_defaults(show_video=True, make_video=True)\n",
    "    args, _ = parser.parse_known_args()\n",
    "    show_video = args.display\n",
    "    display = args.display\n",
    "    do_make_video = args.make_video\n",
    "else:\n",
    "    show_video = False\n",
    "    do_make_video = False\n",
    "    display = False\n",
    "\n",
    "# import the maps module alone for topdown mapping\n",
    "if display:\n",
    "    from habitat.utils.visualizations import maps"
   ]
  },
  {
   "cell_type": "markdown",
   "id": "d3b10467-3597-4957-af01-020422dd93ef",
   "metadata": {},
   "source": [
    "### Configuring Simulator Settings"
   ]
  },
  {
   "cell_type": "code",
   "execution_count": 5,
   "id": "d2a1f834-b92d-4cb8-8861-3fe93ea19209",
   "metadata": {},
   "outputs": [],
   "source": [
    "# Default sim settings\n",
    "rgb_sensor = True\n",
    "depth_sensor = True\n",
    "semantic_sensor = False\n",
    "seed = 1\n",
    "\n",
    "sim_settings = {\n",
    "    \"width\": 256,  # Spatial resolution of the observations\n",
    "    \"height\": 256,\n",
    "    \"scene\": scene_path,  # Scene path\n",
    "    \"scene_dataset\": mp3d_scene_config,  # the scene dataset configuration files\n",
    "    \"default_agent\": 0,\n",
    "    \"sensor_height\": 1.5,  # Height of sensors in meters\n",
    "    \"color_sensor\": rgb_sensor,  # RGB sensor\n",
    "    \"depth_sensor\": depth_sensor,  # Depth sensor\n",
    "    \"semantic_sensor\": semantic_sensor,  # Semantic sensor\n",
    "    \"seed\": seed,  # used in the random navigation\n",
    "    \"enable_physics\": False,  # kinematics only    \n",
    "}"
   ]
  },
  {
   "cell_type": "code",
   "execution_count": 6,
   "id": "ea2168b9-4791-46a7-938a-01db7187f7e9",
   "metadata": {},
   "outputs": [],
   "source": [
    "# Sim config factory?\n",
    "def make_cfg(settings):\n",
    "    sim_cfg = habitat_sim.SimulatorConfiguration()\n",
    "    sim_cfg.gpu_device_id = 0\n",
    "    sim_cfg.scene_id = settings[\"scene\"]\n",
    "    sim_cfg.scene_dataset_config_file = settings[\"scene_dataset\"]\n",
    "    sim_cfg.enable_physics = settings[\"enable_physics\"]\n",
    "\n",
    "    # sensor specs\n",
    "    sensor_specs = []\n",
    "\n",
    "    color_sensor_spec = habitat_sim.CameraSensorSpec()\n",
    "    color_sensor_spec.uuid = \"color_sensor\"\n",
    "    color_sensor_spec.sensor_type = habitat_sim.SensorType.COLOR\n",
    "    color_sensor_spec.resolution = [settings[\"height\"], settings[\"width\"]]\n",
    "    color_sensor_spec.position = [0.0, settings[\"sensor_height\"], 0.0]\n",
    "    color_sensor_spec.sensor_subtype = habitat_sim.SensorSubType.PINHOLE\n",
    "    sensor_specs.append(color_sensor_spec)\n",
    "\n",
    "    depth_sensor_spec = habitat_sim.CameraSensorSpec()\n",
    "    depth_sensor_spec.uuid = \"depth_sensor\"\n",
    "    depth_sensor_spec.sensor_type = habitat_sim.SensorType.DEPTH\n",
    "    depth_sensor_spec.resolution = [settings[\"height\"], settings[\"width\"]]\n",
    "    depth_sensor_spec.position = [0.0, settings[\"sensor_height\"], 0.0]\n",
    "    depth_sensor_spec.sensor_subtype = habitat_sim.SensorSubType.PINHOLE\n",
    "    sensor_specs.append(depth_sensor_spec)\n",
    "\n",
    "    #agent movement\n",
    "    agent_cfg = habitat_sim.agent.AgentConfiguration()\n",
    "    agent_cfg.sensor_specifications = sensor_specs\n",
    "    agent_cfg.action_space = {\n",
    "        \"move_forward\" : habitat_sim.agent.ActionSpec(\n",
    "            \"move_forward\", habitat_sim.agent.ActuationSpec(amount=0.25)\n",
    "        ),\n",
    "        \"turn_left\":habitat_sim.agent.ActionSpec(\n",
    "            \"turn_left\", habitat_sim.agent.ActuationSpec(amount=30.0)\n",
    "        ),\n",
    "        \"turn_right\":habitat_sim.agent.ActionSpec(\n",
    "            \"turn_right\", habitat_sim.agent.ActuationSpec(amount=30.0)\n",
    "        )\n",
    "    }\n",
    "    return habitat_sim.Configuration(sim_cfg, [agent_cfg])\n"
   ]
  },
  {
   "cell_type": "markdown",
   "id": "3925119b-6489-4210-9be1-d47d5b81cc54",
   "metadata": {},
   "source": [
    "### Loading annotations file"
   ]
  },
  {
   "cell_type": "code",
   "execution_count": 7,
   "id": "25a0e16d-08ae-4069-b259-b7a50cb9003a",
   "metadata": {},
   "outputs": [],
   "source": [
    "# Utility function to read rxr data and return it in a dataframe\n",
    "def json_to_df(file_path):\n",
    "    data = []\n",
    "    with open(file_path, 'r') as file:\n",
    "        for line in file:\n",
    "            data.append(json.loads(line))\n",
    "\n",
    "    return pd.DataFrame(data)    "
   ]
  },
  {
   "cell_type": "markdown",
   "id": "947cb0fe-ebbf-4df1-92aa-faea63c23482",
   "metadata": {},
   "source": [
    "### Translating `rxr` viwpoint IDs into `habitat-sim` positions"
   ]
  },
  {
   "cell_type": "code",
   "execution_count": null,
   "id": "6149937a-2edb-43a5-835b-10d5d4537bdd",
   "metadata": {},
   "outputs": [],
   "source": []
  },
  {
   "cell_type": "markdown",
   "id": "29412fdb-6990-4902-a55d-6653576c7bf6",
   "metadata": {},
   "source": [
    "## Reading in the `rxr` data"
   ]
  },
  {
   "cell_type": "code",
   "execution_count": 8,
   "id": "0d28d088-75c3-4c66-8b8b-060ff1d21401",
   "metadata": {},
   "outputs": [
    {
     "name": "stdout",
     "output_type": "stream",
     "text": [
      "Checking existence of /media/wes/Lexar/rxr_data/rxr-data/rxr_train_guide.jsonl/rxr_train_guide.json: \t True\n"
     ]
    }
   ],
   "source": [
    "# Checking file path\n",
    "annotations_fname = \"rxr_train_guide.jsonl/rxr_train_guide.json\"\n",
    "annotations_path = os.path.join(rxr_data_path, annotations_fname)\n",
    "print(f'Checking existence of {annotations_path}: \\t {os.path.exists(annotations_path)}')"
   ]
  },
  {
   "cell_type": "code",
   "execution_count": 10,
   "id": "61360198-96ee-4abd-b0a3-6b25c44b3aab",
   "metadata": {},
   "outputs": [
    {
     "data": {
      "text/html": [
       "<div>\n",
       "<style scoped>\n",
       "    .dataframe tbody tr th:only-of-type {\n",
       "        vertical-align: middle;\n",
       "    }\n",
       "\n",
       "    .dataframe tbody tr th {\n",
       "        vertical-align: top;\n",
       "    }\n",
       "\n",
       "    .dataframe thead th {\n",
       "        text-align: right;\n",
       "    }\n",
       "</style>\n",
       "<table border=\"1\" class=\"dataframe\">\n",
       "  <thead>\n",
       "    <tr style=\"text-align: right;\">\n",
       "      <th></th>\n",
       "      <th>path_id</th>\n",
       "      <th>split</th>\n",
       "      <th>scan</th>\n",
       "      <th>heading</th>\n",
       "      <th>path</th>\n",
       "      <th>instruction_id</th>\n",
       "      <th>annotator_id</th>\n",
       "      <th>language</th>\n",
       "      <th>instruction</th>\n",
       "      <th>timed_instruction</th>\n",
       "      <th>edit_distance</th>\n",
       "    </tr>\n",
       "  </thead>\n",
       "  <tbody>\n",
       "    <tr>\n",
       "      <th>0</th>\n",
       "      <td>0</td>\n",
       "      <td>train</td>\n",
       "      <td>SN83YJsR3w2</td>\n",
       "      <td>2.631565</td>\n",
       "      <td>[4471fcf26b3847ed88ce41eca5ecb13d, b2b0b597ef2...</td>\n",
       "      <td>0</td>\n",
       "      <td>0</td>\n",
       "      <td>en-US</td>\n",
       "      <td>You will start by standing in front of a glass...</td>\n",
       "      <td>[{'end_time': 1.5, 'word': 'You', 'start_time'...</td>\n",
       "      <td>0.076923</td>\n",
       "    </tr>\n",
       "    <tr>\n",
       "      <th>1</th>\n",
       "      <td>3</td>\n",
       "      <td>train</td>\n",
       "      <td>8WUmhLawc2A</td>\n",
       "      <td>5.346564</td>\n",
       "      <td>[5456afbdce1d49489a6d1a178b3a7840, c42200c0f39...</td>\n",
       "      <td>6</td>\n",
       "      <td>12</td>\n",
       "      <td>hi-IN</td>\n",
       "      <td>भोजनकक्ष के कोने में दाएं हाथ में लकड़ी के खाने...</td>\n",
       "      <td>[{'end_time': 63.4, 'word': 'भोजनकक्ष', 'start...</td>\n",
       "      <td>0.144144</td>\n",
       "    </tr>\n",
       "    <tr>\n",
       "      <th>2</th>\n",
       "      <td>3</td>\n",
       "      <td>train</td>\n",
       "      <td>8WUmhLawc2A</td>\n",
       "      <td>5.346564</td>\n",
       "      <td>[5456afbdce1d49489a6d1a178b3a7840, c42200c0f39...</td>\n",
       "      <td>7</td>\n",
       "      <td>14</td>\n",
       "      <td>hi-IN</td>\n",
       "      <td>आप अभी खाने के मेज़ के पास ठैहरे होवे हैं,यहाँ ...</td>\n",
       "      <td>[{'word': 'आप', 'end_time': 10.1, 'start_time'...</td>\n",
       "      <td>0.158140</td>\n",
       "    </tr>\n",
       "    <tr>\n",
       "      <th>3</th>\n",
       "      <td>3</td>\n",
       "      <td>train</td>\n",
       "      <td>8WUmhLawc2A</td>\n",
       "      <td>5.346564</td>\n",
       "      <td>[5456afbdce1d49489a6d1a178b3a7840, c42200c0f39...</td>\n",
       "      <td>8</td>\n",
       "      <td>16</td>\n",
       "      <td>hi-IN</td>\n",
       "      <td>आपके दाए तरफ लकड़ी का मेज है। यहाँ से आगे बढिये...</td>\n",
       "      <td>[{'word': 'आपके', 'end_time': 1.7, 'start_time...</td>\n",
       "      <td>0.259494</td>\n",
       "    </tr>\n",
       "    <tr>\n",
       "      <th>4</th>\n",
       "      <td>4</td>\n",
       "      <td>train</td>\n",
       "      <td>uNb9QFRL6hY</td>\n",
       "      <td>3.281999</td>\n",
       "      <td>[fb41635bb9844f1ea9777cbdb06a89a7, fa0c95d44b3...</td>\n",
       "      <td>9</td>\n",
       "      <td>18</td>\n",
       "      <td>en-IN</td>\n",
       "      <td>Right now you are in front of the window, now ...</td>\n",
       "      <td>[{'start_time': 1.4, 'end_time': 2.4, 'word': ...</td>\n",
       "      <td>0.156800</td>\n",
       "    </tr>\n",
       "  </tbody>\n",
       "</table>\n",
       "</div>"
      ],
      "text/plain": [
       "   path_id  split         scan   heading  \\\n",
       "0        0  train  SN83YJsR3w2  2.631565   \n",
       "1        3  train  8WUmhLawc2A  5.346564   \n",
       "2        3  train  8WUmhLawc2A  5.346564   \n",
       "3        3  train  8WUmhLawc2A  5.346564   \n",
       "4        4  train  uNb9QFRL6hY  3.281999   \n",
       "\n",
       "                                                path  instruction_id  \\\n",
       "0  [4471fcf26b3847ed88ce41eca5ecb13d, b2b0b597ef2...               0   \n",
       "1  [5456afbdce1d49489a6d1a178b3a7840, c42200c0f39...               6   \n",
       "2  [5456afbdce1d49489a6d1a178b3a7840, c42200c0f39...               7   \n",
       "3  [5456afbdce1d49489a6d1a178b3a7840, c42200c0f39...               8   \n",
       "4  [fb41635bb9844f1ea9777cbdb06a89a7, fa0c95d44b3...               9   \n",
       "\n",
       "   annotator_id language                                        instruction  \\\n",
       "0             0    en-US  You will start by standing in front of a glass...   \n",
       "1            12    hi-IN  भोजनकक्ष के कोने में दाएं हाथ में लकड़ी के खाने...   \n",
       "2            14    hi-IN  आप अभी खाने के मेज़ के पास ठैहरे होवे हैं,यहाँ ...   \n",
       "3            16    hi-IN  आपके दाए तरफ लकड़ी का मेज है। यहाँ से आगे बढिये...   \n",
       "4            18    en-IN  Right now you are in front of the window, now ...   \n",
       "\n",
       "                                   timed_instruction  edit_distance  \n",
       "0  [{'end_time': 1.5, 'word': 'You', 'start_time'...       0.076923  \n",
       "1  [{'end_time': 63.4, 'word': 'भोजनकक्ष', 'start...       0.144144  \n",
       "2  [{'word': 'आप', 'end_time': 10.1, 'start_time'...       0.158140  \n",
       "3  [{'word': 'आपके', 'end_time': 1.7, 'start_time...       0.259494  \n",
       "4  [{'start_time': 1.4, 'end_time': 2.4, 'word': ...       0.156800  "
      ]
     },
     "execution_count": 10,
     "metadata": {},
     "output_type": "execute_result"
    }
   ],
   "source": [
    "df_rxr = json_to_df(annotations_path)\n",
    "df_rxr.head(5)"
   ]
  },
  {
   "cell_type": "code",
   "execution_count": 11,
   "id": "76729826-f3e3-42cf-a933-7907bfc503fd",
   "metadata": {},
   "outputs": [],
   "source": [
    "df_rxr = df_rxr[df_rxr['language']=='en-US']"
   ]
  },
  {
   "cell_type": "code",
   "execution_count": 12,
   "id": "e14d0a6c-158c-4e05-83b7-1cf1e18ea470",
   "metadata": {},
   "outputs": [],
   "source": [
    "df_instruction = df_rxr[df_rxr['scan']=='5q7pvUzZiYa']"
   ]
  },
  {
   "cell_type": "code",
   "execution_count": 59,
   "id": "e81ff436-ba90-4453-92d4-31b8eb7d8ce8",
   "metadata": {},
   "outputs": [
    {
     "name": "stdout",
     "output_type": "stream",
     "text": [
      "pose_dir_path: /media/wes/Lexar/rxr_data/rxr-data/pose_traces/rxr_train/, \t exists: True\n",
      "instruct_id: 000297\n"
     ]
    }
   ],
   "source": [
    "pose_dir_path = '/media/wes/Lexar/rxr_data/rxr-data/pose_traces/rxr_train/'\n",
    "instruction_id = df_instruction['instruction_id'].iloc[0]\n",
    "instruct_id = ('000000' + str(instruction_id))[-6:]\n",
    "print(f'pose_dir_path: {pose_dir_path}, \\t exists: {os.path.exists(pose_dir_path)}')\n",
    "print(f'instruct_id: {instruct_id}')"
   ]
  },
  {
   "cell_type": "code",
   "execution_count": 15,
   "id": "9d029565-fb54-46b0-b3db-f6304da5438d",
   "metadata": {},
   "outputs": [
    {
     "name": "stdout",
     "output_type": "stream",
     "text": [
      "/media/wes/Lexar/rxr_data/rxr-data/pose_traces/rxr_train/000297_guide_pose_trace.npz exists: True\n"
     ]
    }
   ],
   "source": [
    "pose_trace_path = os.path.join(pose_dir_path, f'{instruction_id}_guide_pose_trace.npz')\n",
    "print(f'{pose_trace_path} exists: {os.path.exists(pose_trace_path)}')"
   ]
  },
  {
   "cell_type": "code",
   "execution_count": 16,
   "id": "4c22ef2d-a3c4-4feb-b29d-8ed8154f76b5",
   "metadata": {},
   "outputs": [
    {
     "name": "stdout",
     "output_type": "stream",
     "text": [
      "(6482, 4, 4)\n"
     ]
    }
   ],
   "source": [
    "pose_trace = np.load(pose_trace_path)\n",
    "poses = pose_trace['extrinsic_matrix']\n",
    "print(poses.shape)"
   ]
  },
  {
   "cell_type": "code",
   "execution_count": 119,
   "id": "5c9db128-b923-449b-b7b6-55801da1af37",
   "metadata": {},
   "outputs": [
    {
     "data": {
      "text/plain": [
       "array([[ True,  True,  True,  True],\n",
       "       [ True,  True,  True,  True],\n",
       "       [ True,  True,  True,  True],\n",
       "       [ True,  True,  True,  True]])"
      ]
     },
     "execution_count": 119,
     "metadata": {},
     "output_type": "execute_result"
    }
   ],
   "source": [
    "poses[0]==poses[63]"
   ]
  },
  {
   "cell_type": "code",
   "execution_count": 133,
   "id": "40045154-6a79-4dba-8f1e-5c4911da82b4",
   "metadata": {},
   "outputs": [
    {
     "data": {
      "text/plain": [
       "array([[-5.90173364e-01, -7.92529155e-03,  8.07237625e-01,\n",
       "         1.03697419e-01],\n",
       "       [-8.67361738e-19,  9.99951780e-01,  9.81731899e-03,\n",
       "         4.75754118e+00],\n",
       "       [-8.07276547e-01,  5.79392025e-03, -5.90144932e-01,\n",
       "        -8.06029797e-01],\n",
       "       [ 0.00000000e+00,  0.00000000e+00,  0.00000000e+00,\n",
       "         1.00000000e+00]])"
      ]
     },
     "execution_count": 133,
     "metadata": {},
     "output_type": "execute_result"
    }
   ],
   "source": [
    "poses[64]"
   ]
  },
  {
   "cell_type": "markdown",
   "id": "d90ffaf4-5101-4a36-b9bb-9b243403a1b0",
   "metadata": {},
   "source": [
    "## Creating simulator instance"
   ]
  },
  {
   "cell_type": "code",
   "execution_count": 18,
   "id": "1b27ad87-9ead-402f-b603-46c8d2ed7c6b",
   "metadata": {},
   "outputs": [],
   "source": [
    "# Create configuration\n",
    "cfg = make_cfg(sim_settings)"
   ]
  },
  {
   "cell_type": "code",
   "execution_count": 19,
   "id": "94759a04-4251-4bfd-9bd5-f74514cced89",
   "metadata": {},
   "outputs": [
    {
     "name": "stdout",
     "output_type": "stream",
     "text": [
      "Renderer: NVIDIA GeForce RTX 4090/PCIe/SSE2 by NVIDIA Corporation\n",
      "OpenGL version: 4.6.0 NVIDIA 550.107.02\n",
      "Using optional features:\n",
      "    GL_ARB_vertex_array_object\n",
      "    GL_ARB_separate_shader_objects\n",
      "    GL_ARB_robustness\n",
      "    GL_ARB_texture_storage\n",
      "    GL_ARB_texture_view\n",
      "    GL_ARB_framebuffer_no_attachments\n",
      "    GL_ARB_invalidate_subdata\n",
      "    GL_ARB_texture_storage_multisample\n",
      "    GL_ARB_multi_bind\n",
      "    GL_ARB_direct_state_access\n",
      "    GL_ARB_get_texture_sub_image\n",
      "    GL_ARB_texture_filter_anisotropic\n",
      "    GL_KHR_debug\n",
      "    GL_KHR_parallel_shader_compile\n",
      "    GL_NV_depth_buffer_float\n",
      "Using driver workarounds:\n",
      "    no-forward-compatible-core-context\n",
      "    nv-egl-incorrect-gl11-function-pointers\n",
      "    no-layout-qualifiers-on-old-glsl\n",
      "    nv-zero-context-profile-mask\n",
      "    nv-implementation-color-read-format-dsa-broken\n",
      "    nv-cubemap-inconsistent-compressed-image-size\n",
      "    nv-cubemap-broken-full-compressed-image-query\n",
      "    nv-compressed-block-size-in-bits\n"
     ]
    },
    {
     "name": "stderr",
     "output_type": "stream",
     "text": [
      "PluginManager::Manager: duplicate static plugin StbImageImporter, ignoring\n",
      "PluginManager::Manager: duplicate static plugin GltfImporter, ignoring\n",
      "PluginManager::Manager: duplicate static plugin BasisImporter, ignoring\n",
      "PluginManager::Manager: duplicate static plugin AssimpImporter, ignoring\n",
      "PluginManager::Manager: duplicate static plugin AnySceneImporter, ignoring\n",
      "PluginManager::Manager: duplicate static plugin AnyImageImporter, ignoring\n",
      "[20:47:08:884915]:[Warning]:[Metadata] SceneDatasetAttributes.cpp(107)::addNewSceneInstanceToDataset : Dataset : 'mp3d' : Lighting Layout Attributes 'no_lights' specified in Scene Attributes but does not exist in dataset, so creating default.\n"
     ]
    }
   ],
   "source": [
    "# Create simulator instance\n",
    "sim = habitat_sim.Simulator(cfg)"
   ]
  },
  {
   "cell_type": "markdown",
   "id": "0a1e36c7-edef-408c-bff8-87d372ed6be6",
   "metadata": {},
   "source": [
    "# Test - turning viewpoint IDs into positions"
   ]
  },
  {
   "cell_type": "markdown",
   "id": "9cc33f6f-0b12-4c14-ab08-9984212b0b99",
   "metadata": {
    "jp-MarkdownHeadingCollapsed": true
   },
   "source": [
    "## Old - R2R Connectivity"
   ]
  },
  {
   "cell_type": "code",
   "execution_count": 16,
   "id": "2b405332-ae11-4a08-814e-b747da4d6563",
   "metadata": {},
   "outputs": [
    {
     "name": "stdout",
     "output_type": "stream",
     "text": [
      "0e92a69a50414253a23043758f111cec\n"
     ]
    }
   ],
   "source": [
    "viewpoint_id = df_rxr[df_rxr['scan']==scene_id]['path'].iloc[0][0]\n",
    "print(viewpoint_id)"
   ]
  },
  {
   "cell_type": "code",
   "execution_count": 17,
   "id": "39fc90e5-ec94-41f5-b744-7a165da06688",
   "metadata": {},
   "outputs": [
    {
     "name": "stdout",
     "output_type": "stream",
     "text": [
      "connectivity_path: /home/wes/habitat/data/Matterport3DSimulator/connectivity/17DRP5sb8fy_connectivity.json, \t Exists: True\n"
     ]
    }
   ],
   "source": [
    "connectivity_dir_path = os.path.join(habitat_dir_path, 'Matterport3DSimulator/connectivity/')\n",
    "connectivity_path = os.path.join(connectivity_dir_path, f'{scene_id}_connectivity.json')\n",
    "print(f'connectivity_path: {connectivity_path}, \\t Exists: {os.path.exists(connectivity_path)}')"
   ]
  },
  {
   "cell_type": "code",
   "execution_count": 18,
   "id": "507d7324-d441-485e-8cbd-a9484bc9c3a7",
   "metadata": {},
   "outputs": [
    {
     "data": {
      "text/html": [
       "<div>\n",
       "<style scoped>\n",
       "    .dataframe tbody tr th:only-of-type {\n",
       "        vertical-align: middle;\n",
       "    }\n",
       "\n",
       "    .dataframe tbody tr th {\n",
       "        vertical-align: top;\n",
       "    }\n",
       "\n",
       "    .dataframe thead th {\n",
       "        text-align: right;\n",
       "    }\n",
       "</style>\n",
       "<table border=\"1\" class=\"dataframe\">\n",
       "  <thead>\n",
       "    <tr style=\"text-align: right;\">\n",
       "      <th></th>\n",
       "      <th>image_id</th>\n",
       "      <th>pose</th>\n",
       "      <th>included</th>\n",
       "      <th>visible</th>\n",
       "      <th>unobstructed</th>\n",
       "      <th>height</th>\n",
       "    </tr>\n",
       "  </thead>\n",
       "  <tbody>\n",
       "    <tr>\n",
       "      <th>0</th>\n",
       "      <td>10c252c90fa24ef3b698c6f54d984c5c</td>\n",
       "      <td>[-0.934268, -0.00147015, -0.35657, -5.48891, 0...</td>\n",
       "      <td>True</td>\n",
       "      <td>[False, False, True, False, False, False, Fals...</td>\n",
       "      <td>[False, False, False, False, False, False, Fal...</td>\n",
       "      <td>1.535738</td>\n",
       "    </tr>\n",
       "    <tr>\n",
       "      <th>1</th>\n",
       "      <td>0e92a69a50414253a23043758f111cec</td>\n",
       "      <td>[0.02821, 0.0215087, 0.999371, -2.20971, -0.99...</td>\n",
       "      <td>True</td>\n",
       "      <td>[False, False, False, True, False, True, True,...</td>\n",
       "      <td>[False, False, False, False, False, False, Fal...</td>\n",
       "      <td>1.581438</td>\n",
       "    </tr>\n",
       "    <tr>\n",
       "      <th>2</th>\n",
       "      <td>51857544c192476faebf212acb1b3d90</td>\n",
       "      <td>[-0.999869, -0.00709109, 0.014624, -8.74239, -...</td>\n",
       "      <td>True</td>\n",
       "      <td>[True, False, False, False, False, False, Fals...</td>\n",
       "      <td>[False, False, False, False, False, False, Fal...</td>\n",
       "      <td>1.531229</td>\n",
       "    </tr>\n",
       "    <tr>\n",
       "      <th>3</th>\n",
       "      <td>558ba0761bf24428b9cf91e60333ea25</td>\n",
       "      <td>[-0.0320212, -0.0104669, -0.999433, 2.41405, 0...</td>\n",
       "      <td>True</td>\n",
       "      <td>[False, True, False, False, False, True, True,...</td>\n",
       "      <td>[False, False, False, False, False, False, Tru...</td>\n",
       "      <td>1.595108</td>\n",
       "    </tr>\n",
       "    <tr>\n",
       "      <th>4</th>\n",
       "      <td>3577de361e1a46b1be544d37731bfde6</td>\n",
       "      <td>[-0.98209, 0.0184798, -0.187506, -6.30406, 0.1...</td>\n",
       "      <td>True</td>\n",
       "      <td>[False, False, False, False, False, False, Fal...</td>\n",
       "      <td>[False, False, False, False, False, False, Fal...</td>\n",
       "      <td>0.681014</td>\n",
       "    </tr>\n",
       "  </tbody>\n",
       "</table>\n",
       "</div>"
      ],
      "text/plain": [
       "                           image_id  \\\n",
       "0  10c252c90fa24ef3b698c6f54d984c5c   \n",
       "1  0e92a69a50414253a23043758f111cec   \n",
       "2  51857544c192476faebf212acb1b3d90   \n",
       "3  558ba0761bf24428b9cf91e60333ea25   \n",
       "4  3577de361e1a46b1be544d37731bfde6   \n",
       "\n",
       "                                                pose  included  \\\n",
       "0  [-0.934268, -0.00147015, -0.35657, -5.48891, 0...      True   \n",
       "1  [0.02821, 0.0215087, 0.999371, -2.20971, -0.99...      True   \n",
       "2  [-0.999869, -0.00709109, 0.014624, -8.74239, -...      True   \n",
       "3  [-0.0320212, -0.0104669, -0.999433, 2.41405, 0...      True   \n",
       "4  [-0.98209, 0.0184798, -0.187506, -6.30406, 0.1...      True   \n",
       "\n",
       "                                             visible  \\\n",
       "0  [False, False, True, False, False, False, Fals...   \n",
       "1  [False, False, False, True, False, True, True,...   \n",
       "2  [True, False, False, False, False, False, Fals...   \n",
       "3  [False, True, False, False, False, True, True,...   \n",
       "4  [False, False, False, False, False, False, Fal...   \n",
       "\n",
       "                                        unobstructed    height  \n",
       "0  [False, False, False, False, False, False, Fal...  1.535738  \n",
       "1  [False, False, False, False, False, False, Fal...  1.581438  \n",
       "2  [False, False, False, False, False, False, Fal...  1.531229  \n",
       "3  [False, False, False, False, False, False, Tru...  1.595108  \n",
       "4  [False, False, False, False, False, False, Fal...  0.681014  "
      ]
     },
     "execution_count": 18,
     "metadata": {},
     "output_type": "execute_result"
    }
   ],
   "source": [
    "with open(connectivity_path, 'r') as file:\n",
    "    df_con = pd.DataFrame(json.load(file))\n",
    "\n",
    "df_con.head()"
   ]
  },
  {
   "cell_type": "code",
   "execution_count": 19,
   "id": "68458692-dfca-446d-8b7d-c7313b8b6bba",
   "metadata": {},
   "outputs": [
    {
     "name": "stdout",
     "output_type": "stream",
     "text": [
      "[[ 0.02821     0.0215087   0.999371   -2.20971   ]\n",
      " [-0.999577   -0.00652014  0.0283563  -0.492952  ]\n",
      " [ 0.0071258  -0.999748    0.0213153   1.58483   ]\n",
      " [ 0.          0.          0.          1.        ]]\n"
     ]
    }
   ],
   "source": [
    "pose = df_con[df_con['image_id']==viewpoint_id]['pose']\n",
    "pose = np.array(pose.values[0]).reshape(4,4)\n",
    "print(pose)"
   ]
  },
  {
   "cell_type": "markdown",
   "id": "73fce348-cee2-4d64-bb0e-2b2be1634065",
   "metadata": {},
   "source": [
    "## Scene Position Mapping"
   ]
  },
  {
   "cell_type": "code",
   "execution_count": 150,
   "id": "7751e312-eba7-4f38-bb3f-b75d5c8fddb1",
   "metadata": {
    "scrolled": true
   },
   "outputs": [
    {
     "name": "stdout",
     "output_type": "stream",
     "text": [
      "0: [ 0.103698    4.75754023 -0.80602902]\n",
      "1: [ 0.10369742  4.75754118 -0.8060298 ]\n",
      "2: [ 0.10369729  4.75754595 -0.80602968]\n",
      "3: [ 0.10369677  4.75755262 -0.80602932]\n",
      "4: [ 0.10369643  4.75755548 -0.80602908]\n",
      "5: [ 0.10369588  4.7575593  -0.80602866]\n",
      "6: [ 0.10369538  4.75756216 -0.80602831]\n",
      "7: [ 0.1036946   4.75756598 -0.80602771]\n",
      "8: [ 0.10369418  4.75756788 -0.80602741]\n",
      "9: [ 0.10369372  4.75756979 -0.80602705]\n",
      "10: [ 0.1036927   4.7575736  -0.80602634]\n",
      "11: [ 0.10369187  4.75757647 -0.80602574]\n",
      "12: [ 0.10369066  4.75758028 -0.80602485]\n",
      "13: [ 0.10368933  4.75758362 -0.8060239 ]\n",
      "14: [ 0.10368789  4.75758696 -0.80602282]\n",
      "15: [ 0.10368713  4.75758886 -0.80602229]\n",
      "16: [ 0.10368674  4.75758982 -0.80602199]\n",
      "17: [ 0.10368733  4.75759077 -0.80602032]\n",
      "18: [ 0.10368692  4.75759125 -0.80602002]\n",
      "19: [ 0.10368608  4.75759315 -0.80601943]\n",
      "20: [ 0.10368612  4.75759411 -0.80601847]\n",
      "21: [ 0.10368568  4.75759459 -0.80601817]\n",
      "22: [ 0.10368524  4.75759554 -0.80601788]\n",
      "23: [ 0.10368478  4.75759649 -0.80601752]\n",
      "24: [ 0.10368432  4.75759697 -0.80601722]\n",
      "25: [ 0.10368226  4.75759459 -0.80602276]\n",
      "26: [ 0.10367821  4.75758886 -0.80603266]\n",
      "27: [ 0.10367225  4.75758076 -0.80604315]\n",
      "28: [ 0.10366667  4.75757647 -0.80604935]\n",
      "29: [ 0.1036639   4.75757456 -0.80605185]\n",
      "30: [ 0.10366032  4.7575717  -0.80605495]\n",
      "31: [ 0.10365892  4.75756979 -0.80605632]\n",
      "32: [ 0.10365239  4.75756693 -0.80606014]\n",
      "33: [ 0.10364293  4.75756121 -0.80606484]\n",
      "34: [ 0.10362707  4.75755453 -0.80606914]\n",
      "35: [ 0.10362129  4.75754976 -0.80607021]\n",
      "36: [ 0.10361739  4.7575469  -0.80607057]\n",
      "37: [ 0.10362519  4.75754976 -0.80606991]\n",
      "38: [ 0.10364229  4.75755548 -0.80606616]\n",
      "39: [ 0.10365742  4.75756025 -0.80605978]\n",
      "40: [ 0.10367087  4.75756598 -0.80605066]\n",
      "41: [ 0.10367881  4.75756788 -0.80604392]\n",
      "42: [ 0.10368194  4.75756979 -0.80604041]\n",
      "43: [ 0.10368308  4.75757074 -0.80603886]\n",
      "44: [ 0.10368675  4.7575717  -0.80603462]\n",
      "45: [ 0.10368811  4.7575736  -0.80603212]\n",
      "46: [ 0.10368846  4.75757456 -0.80603123]\n",
      "47: [ 0.10368878  4.75757551 -0.80603027]\n",
      "48: [ 0.10368966  4.75757647 -0.80602866]\n",
      "49: [ 0.10369128  4.75757837 -0.80602533]\n",
      "50: [ 0.10370082  4.75757742 -0.80600989]\n",
      "51: [ 0.10370227  4.75757647 -0.8060075 ]\n",
      "52: [ 0.10370362  4.75757456 -0.80600607]\n",
      "53: [ 0.10370427  4.7575736  -0.80600536]\n",
      "54: [ 0.10370491  4.75757265 -0.80600458]\n",
      "55: [ 0.10370554  4.7575717  -0.80600387]\n",
      "56: [ 0.10370735  4.75757074 -0.80599952]\n",
      "57: [ 0.10370899  4.75756788 -0.80599707]\n",
      "58: [ 0.10371115  4.75756502 -0.80599177]\n",
      "59: [ 0.10371201  4.75756311 -0.80599004]\n",
      "60: [ 0.10371275  4.75756216 -0.80598724]\n",
      "61: [ 0.10371362  4.75756025 -0.8059845 ]\n",
      "62: [ 0.10371445  4.7575593  -0.80597878]\n",
      "63: [ 0.10371477  4.75755835 -0.80597687]\n",
      "64: [ 0.10371531  4.75755644 -0.80597109]\n",
      "65: [ 0.1037154   4.75755548 -0.80596721]\n",
      "66: [ 0.10371546  4.75755453 -0.80596524]\n",
      "67: [ 0.10371547  4.75755358 -0.80596328]\n",
      "68: [ 0.10371555  4.75755167 -0.80596131]\n",
      "69: [ 0.10371557  4.75755072 -0.80596036]\n",
      "70: [ 0.10371553  4.75754881 -0.80595839]\n",
      "71: [ 0.10371534  4.75754595 -0.80595547]\n",
      "72: [ 0.10371497  4.75754309 -0.80595255]\n",
      "73: [ 0.10371483  4.75754118 -0.80595154]\n",
      "74: [ 0.10371476  4.75754404 -0.8059516 ]\n",
      "75: [ 0.10371463  4.75754881 -0.80595261]\n",
      "76: [ 0.10371439  4.75755262 -0.80595362]\n",
      "77: [ 0.10371443  4.75755358 -0.80595464]\n",
      "78: [ 0.10371444  4.75755453 -0.80595559]\n",
      "79: [ 0.10370917  4.75755262 -0.80593491]\n",
      "80: [ 0.10370617  4.75755167 -0.80592769]\n",
      "81: [ 0.10370358  4.75755072 -0.80592245]\n",
      "82: [ 0.1037027   4.75754976 -0.80592072]\n",
      "83: [ 0.10371007  4.75755072 -0.80593663]\n",
      "84: [ 0.10371436  4.75754976 -0.80595165]\n",
      "85: [ 0.10371489  4.75754786 -0.80595356]\n",
      "86: [ 0.10371518  4.75754595 -0.80595446]\n",
      "87: [ 0.10371561  4.75754309 -0.80595642]\n",
      "88: [ 0.10371578  4.75754213 -0.80595738]\n",
      "89: [ 0.10371592  4.75754118 -0.80595833]\n",
      "90: [ 0.10371603  4.7575388  -0.80595934]\n",
      "91: [ 0.10371607  4.75753593 -0.8059603 ]\n",
      "92: [ 0.1037161   4.75753307 -0.80596226]\n",
      "93: [ 0.10371619  4.75754786 -0.80597693]\n",
      "94: [ 0.10371571  4.75754976 -0.8059808 ]\n",
      "95: [ 0.10371488  4.75755167 -0.80598563]\n",
      "96: [ 0.10371429  4.75755262 -0.80598849]\n",
      "97: [ 0.10371398  4.75755358 -0.80598944]\n",
      "98: [ 0.10371311  4.75755548 -0.80599225]\n",
      "99: [ 0.10371235  4.75755739 -0.80599403]\n",
      "100: [ 0.10371152  4.7575593  -0.80599582]\n",
      "101: [ 0.10371082  4.75756025 -0.80599761]\n",
      "102: [ 0.10371009  4.75756121 -0.8059994 ]\n",
      "103: [ 0.10370959  4.75756216 -0.80600023]\n",
      "104: [ 0.10370909  4.75756311 -0.80600113]\n",
      "105: [ 0.10370857  4.75756407 -0.8060019 ]\n",
      "106: [ 0.10370802  4.75756502 -0.80600274]\n",
      "107: [ 0.10370611  4.75756598 -0.80600709]\n",
      "108: [ 0.10368773  4.75756407 -0.80603683]\n",
      "109: [ 0.10368122  4.75756216 -0.8060438 ]\n",
      "110: [ 0.10355364  4.75756502 -0.80604416]\n",
      "111: [ 0.10357191  4.75756693 -0.80605596]\n",
      "112: [ 0.10358873  4.75756979 -0.80606198]\n",
      "113: [ 0.10360251  4.7575717  -0.80606449]\n",
      "114: [ 0.103609    4.75757265 -0.80606496]\n",
      "115: [ 0.10361642  4.75757456 -0.80606461]\n",
      "116: [ 0.10362009  4.75757551 -0.80606419]\n",
      "117: [ 0.10362464  4.75757647 -0.80606353]\n",
      "118: [ 0.10362732  4.75757742 -0.80606294]\n",
      "119: [ 0.10363105  4.75757551 -0.80606312]\n",
      "120: [ 0.1036311   4.75757456 -0.80606347]\n",
      "121: [ 0.10363206  4.7575736  -0.80606365]\n",
      "122: [ 0.10363303  4.75757265 -0.80606383]\n",
      "123: [ 0.103634    4.7575717  -0.80606401]\n",
      "124: [ 0.10363589  4.75757074 -0.80606395]\n",
      "125: [ 0.10363687  4.75756979 -0.80606401]\n",
      "126: [ 0.10363889  4.75756693 -0.80606443]\n",
      "127: [ 0.10363987  4.75756598 -0.80606449]\n",
      "128: [ 0.10364275  4.75756407 -0.80606419]\n",
      "129: [ 0.10364471  4.75756216 -0.80606413]\n",
      "130: [ 0.10364477  4.75756121 -0.80606431]\n",
      "131: [ 0.10364575  4.75756025 -0.80606425]\n",
      "132: [ 0.10362405  4.75756216 -0.80606794]\n",
      "133: [ 0.10361164  4.75756311 -0.80606788]\n",
      "134: [ 0.10359377  4.75756407 -0.80606502]\n",
      "135: [ 0.10357263  4.75756598 -0.80605662]\n",
      "136: [ 0.10357108  4.75756693 -0.80605555]\n",
      "137: [ 0.10356472  4.75756788 -0.80605143]\n",
      "138: [ 0.10355362  4.75756884 -0.80604273]\n",
      "139: [ 0.10352445  4.7575717  -0.80599266]\n",
      "140: [ 0.10352398  4.75757265 -0.80598891]\n",
      "141: [ 0.10352366  4.7575736  -0.80598521]\n",
      "142: [ 0.10352455  4.75757742 -0.8059814 ]\n",
      "143: [ 0.10352594  4.75758171 -0.80597407]\n",
      "144: [ 0.10352855  4.75758696 -0.80596793]\n",
      "145: [ 0.1035323   4.75759315 -0.80596304]\n",
      "146: [ 0.10353954  4.75760269 -0.80595988]\n",
      "147: [ 0.10354781  4.75761127 -0.80595827]\n",
      "148: [ 0.10356247  4.7576232  -0.80595869]\n",
      "149: [ 0.10356592  4.7576251  -0.80595845]\n",
      "150: [ 0.10356686  4.75762558 -0.80595815]\n",
      "151: [ 0.10356768  4.75762606 -0.80595833]\n",
      "152: [ 0.10356835  4.75762653 -0.80595803]\n",
      "153: [ 0.10357522  4.7576251  -0.80593854]\n",
      "154: [ 0.10357387  4.75762177 -0.80593252]\n",
      "155: [ 0.10357396  4.75761938 -0.80592781]\n",
      "156: [ 0.10357509  4.75761843 -0.80592459]\n",
      "157: [ 0.1035755   4.75761795 -0.80592322]\n",
      "158: [ 0.10357596  4.75761652 -0.80592084]\n",
      "159: [ 0.10357618  4.75761366 -0.80591691]\n",
      "160: [ 0.1035767   4.75761127 -0.80591303]\n",
      "161: [ 0.10357729  4.75760889 -0.80591017]\n",
      "162: [ 0.10357834  4.75760603 -0.80590636]\n",
      "163: [ 0.1035793   4.75760555 -0.80590504]\n",
      "164: [ 0.10357933  4.75760412 -0.80590361]\n",
      "165: [ 0.10357969  4.75760317 -0.80590266]\n",
      "166: [ 0.10357939  4.75760221 -0.80590212]\n",
      "167: [ 0.10357979  4.75760174 -0.80590123]\n",
      "168: [ 0.10357951  4.75760078 -0.80590069]\n",
      "169: [ 0.10357923  4.75760031 -0.80590016]\n",
      "170: [ 0.10357895  4.75759935 -0.80589968]\n",
      "171: [ 0.10357868  4.7575984  -0.80589914]\n",
      "172: [ 0.10357815  4.75759697 -0.80589813]\n",
      "173: [ 0.10357764  4.75759506 -0.80589718]\n",
      "174: [ 0.10357594  4.75758934 -0.80589402]\n",
      "175: [ 0.10357486  4.75758505 -0.80589193]\n",
      "176: [ 0.10357387  4.75758076 -0.80589008]\n",
      "177: [ 0.1035735   4.75757885 -0.80588937]\n",
      "178: [ 0.10357333  4.7575779  -0.80588907]\n",
      "179: [ 0.10357316  4.75757694 -0.80588871]\n",
      "180: [ 0.10357299  4.75757599 -0.80588841]\n",
      "181: [ 0.10357201  4.75757504 -0.80588853]\n",
      "182: [ 0.10357104  4.75757408 -0.80588871]\n",
      "183: [ 0.10357088  4.7575736  -0.80588841]\n",
      "184: [ 0.10356992  4.75757265 -0.80588859]\n",
      "185: [ 0.10357359  4.75756979 -0.80588555]\n",
      "186: [ 0.10357771  4.75756884 -0.80588329]\n",
      "187: [ 0.1035802   4.75756788 -0.80588192]\n",
      "188: [ 0.10358451  4.75756693 -0.80587995]\n",
      "189: [ 1.4188      4.7936101  -4.18069983]\n",
      "190: [ 1.4188112   4.79361582 -4.18069649]\n",
      "191: [ 1.4188199   4.79362297 -4.18069506]\n",
      "192: [ 1.41882968  4.79363155 -4.18069553]\n",
      "193: [ 1.41883647  4.79363918 -4.18069696]\n",
      "194: [ 1.41883922  4.793643   -4.18069839]\n",
      "195: [ 1.41884112  4.79364395 -4.18069887]\n",
      "196: [ 1.41884196  4.79364491 -4.18069935]\n",
      "197: [ 1.41884375  4.79364729 -4.1807003 ]\n",
      "198: [ 1.41884458  4.79364824 -4.18070078]\n",
      "199: [ 1.41884542  4.79365015 -4.18070173]\n",
      "200: [ 1.41884267  4.79365206 -4.18070221]\n",
      "201: [ 1.41884184  4.79365301 -4.18070269]\n",
      "202: [ 1.41883647  4.79365444 -4.18070316]\n",
      "203: [ 1.41882944  4.7936554  -4.18070412]\n",
      "204: [ 1.41882348  4.7936573  -4.18070555]\n",
      "205: [ 1.41881585  4.79365826 -4.18070745]\n",
      "206: [ 1.41880524  4.79365921 -4.18071127]\n",
      "207: [ 1.41879606  4.79365969 -4.18071556]\n",
      "208: [ 1.41879058  4.79366159 -4.18071985]\n",
      "209: [ 1.41876936  4.79366064 -4.18073797]\n",
      "210: [ 1.41876578  4.79365969 -4.18074179]\n",
      "211: [ 1.41876245  4.79365921 -4.1807456 ]\n",
      "212: [ 1.41876078  4.7936573  -4.18074656]\n",
      "213: [ 1.41875911  4.79365635 -4.18074894]\n",
      "214: [ 1.41875744  4.7936554  -4.18075085]\n",
      "215: [ 1.41875625  4.79365444 -4.18075228]\n",
      "216: [ 1.41875505  4.79365396 -4.18075371]\n",
      "217: [ 1.41875422  4.79365301 -4.18075418]\n",
      "218: [ 1.41875315  4.79365206 -4.18075562]\n",
      "219: [ 1.41875207  4.7936511  -4.18075705]\n",
      "220: [ 1.41875005  4.7936492  -4.18076038]\n",
      "221: [ 1.41874897  4.79364824 -4.18076181]\n",
      "222: [ 1.41874754  4.79364729 -4.18076515]\n",
      "223: [ 1.41874659  4.79364634 -4.18076658]\n",
      "224: [ 1.41874552  4.79364538 -4.18076944]\n",
      "225: [ 1.4187448   4.79364491 -4.18077087]\n",
      "226: [ 1.41874361  4.79364395 -4.18077469]\n",
      "227: [ 1.4187429   4.793643   -4.18077707]\n",
      "228: [ 1.41874111  4.79364109 -4.18078661]\n",
      "229: [ 1.41874063  4.79364014 -4.18079185]\n",
      "230: [ 1.41874087  4.79364109 -4.18079281]\n",
      "231: [ 4.12615013  4.79476976 -3.87003994]\n",
      "232: [ 4.12615061  4.79477787 -3.87004185]\n",
      "233: [ 4.12615108  4.79477978 -3.87004375]\n",
      "234: [ 4.12615156  4.79478359 -3.87004566]\n",
      "235: [ 4.12615204  4.79478455 -3.87004662]\n",
      "236: [ 4.12615252  4.79478741 -3.87004757]\n",
      "237: [ 4.12615299  4.79478836 -3.87004828]\n",
      "238: [ 4.12615347  4.79478931 -3.87004924]\n",
      "239: [ 4.12615395  4.79479027 -3.87005019]\n",
      "240: [ 4.12615442  4.79479122 -3.87005115]\n",
      "241: [ 4.1261549   4.79479218 -3.87005186]\n",
      "242: [ 4.12615538  4.79479313 -3.87005281]\n",
      "243: [ 4.12615633  4.79479504 -3.87005448]\n",
      "244: [ 4.12615681  4.79479599 -3.87005544]\n",
      "245: [ 4.12615776  4.79479694 -3.87005806]\n",
      "246: [ 4.12615871  4.7947979  -3.87006068]\n",
      "247: [ 4.12616014  4.7947998  -3.87006307]\n",
      "248: [ 4.1261611   4.79480076 -3.87006378]\n",
      "249: [ 4.12616253  4.79480171 -3.8700664 ]\n",
      "250: [ 4.12616348  4.79480362 -3.87006688]\n",
      "251: [ 4.12616396  4.79480457 -3.8700676 ]\n",
      "252: [ 4.12616491  4.79480553 -3.87006903]\n",
      "253: [ 4.12616014  4.79480362 -3.8700583 ]\n",
      "254: [ 4.12615919  4.79480267 -3.87005663]\n",
      "255: [ 4.12615776  4.79480171 -3.8700521 ]\n",
      "256: [ 4.12615681  4.79480076 -3.87005043]\n",
      "257: [ 4.1261549   4.79479885 -3.87004423]\n",
      "258: [ 4.12615347  4.7947979  -3.87003398]\n",
      "259: [ 4.12615299  4.79479694 -3.87003303]\n",
      "260: [ 7.55960989  4.79336977 -3.85058999]\n",
      "261: [ 7.55961037  4.79337502 -3.8505919 ]\n",
      "262: [ 7.55961084  4.79338169 -3.85059595]\n",
      "263: [ 7.55961132  4.7933836  -3.85059786]\n",
      "264: [ 7.5596118   4.79338741 -3.85059857]\n",
      "265: [ 7.55961275  4.79339027 -3.85060048]\n",
      "266: [ 7.55961323  4.79339123 -3.85060143]\n",
      "267: [ 7.55961418  4.79339504 -3.85060239]\n",
      "268: [ 7.55961466  4.79339695 -3.85060215]\n",
      "269: [ 7.55961561  4.79339981 -3.85060406]\n",
      "270: [ 7.55961609  4.79340076 -3.85060382]\n",
      "271: [ 7.55961657  4.79340172 -3.85060477]\n",
      "272: [ 7.55961704  4.79340363 -3.85060549]\n",
      "273: [ 7.55961752  4.79340458 -3.85060644]\n",
      "274: [ 7.55961895  4.79340744 -3.85060811]\n",
      "275: [ 7.55961943  4.79340839 -3.85060787]\n",
      "276: [ 7.55962038  4.79340935 -3.85060954]\n",
      "277: [ 7.55962133  4.79341078 -3.85061121]\n",
      "278: [ 7.55962229  4.79341173 -3.85061288]\n",
      "279: [ 7.55962324  4.79341269 -3.85061526]\n",
      "280: [ 7.55962515  4.79341459 -3.85061765]\n",
      "281: [ 7.55962706  4.79341555 -3.85062146]\n",
      "282: [ 7.55963087  4.7934165  -3.85062933]\n",
      "283: [ 7.55963469  4.79341698 -3.85063529]\n",
      "284: [ 7.55964279  4.79341984 -3.85064411]\n",
      "285: [ 7.55969334  4.79341888 -3.85067511]\n",
      "286: [ 7.55968046  4.7934165  -3.85067296]\n",
      "287: [ 7.55967188  4.79341364 -3.85067105]\n",
      "288: [ 7.55962229  4.79341269 -3.85061097]\n",
      "289: [ 7.55962133  4.79341173 -3.8506093 ]\n",
      "290: [ 7.55962086  4.7934103  -3.85060954]\n",
      "291: [ 7.55962276  4.79340458 -3.85062408]\n",
      "292: [ 7.55962515  4.79340076 -3.85063219]\n",
      "293: [ 7.55962658  4.7933979  -3.85063672]\n",
      "294: [ 7.55962706  4.79339695 -3.85063863]\n",
      "295: [ 7.55962849  4.793396   -3.85064101]\n",
      "296: [ 7.55962944  4.79339504 -3.85064292]\n",
      "297: [ 7.55962849  4.79339314 -3.8506422 ]\n",
      "298: [ 7.55962181  4.79339409 -3.85062957]\n",
      "299: [ 7.55962133  4.79339504 -3.8506279 ]\n",
      "300: [ 7.55962038  4.793396   -3.85062504]\n",
      "301: [ 7.5596199   4.79339886 -3.85062122]\n",
      "302: [ 7.55961895  4.79339981 -3.85061765]\n",
      "303: [ 9.79137039  4.77701998 -2.90639997]\n",
      "304: [12.66730022  4.77066994 -2.56006002]\n",
      "305: [14.96249962  4.79570007 -3.74322009]\n",
      "306: [14.96252441  4.79570198 -3.74318957]\n",
      "307: [14.96253777  4.79570484 -3.7431798 ]\n",
      "308: [14.96255016  4.79570675 -3.74317384]\n",
      "309: [14.96256256  4.7957077  -3.74316978]\n",
      "310: [14.96257687  4.7957139  -3.7431674 ]\n",
      "311: [14.9625864   4.79571676 -3.74316716]\n",
      "312: [14.96260166  4.79572344 -3.74316931]\n",
      "313: [14.96261787  4.79573011 -3.74317455]\n",
      "314: [14.96262932  4.79573822 -3.74318266]\n",
      "315: [14.9626379   4.79574537 -3.743191  ]\n",
      "316: [14.96264458  4.79574966 -3.74319863]\n",
      "317: [14.96264839  4.79575396 -3.74320555]\n",
      "318: [14.96265316  4.79575872 -3.7432158 ]\n",
      "319: [14.96265697  4.79576349 -3.74322748]\n",
      "320: [14.96265793  4.79576683 -3.74323654]\n",
      "321: [14.96265888  4.79576731 -3.74324036]\n",
      "322: [14.96265984  4.79576826 -3.74324322]\n",
      "323: [14.20849991  4.28119993 -3.77471995]\n",
      "324: [12.95969963  3.38177991 -3.81647992]\n",
      "325: [11.68610001  2.45168996 -3.86536002]\n",
      "326: [10.42580032  1.58563995 -3.87255001]\n",
      "327: [10.42580891  1.58562458 -3.87254906]\n",
      "328: [10.42580605  1.58562636 -3.87256837]\n",
      "329: [10.42580318  1.58562815 -3.87257504]\n",
      "330: [10.42580032  1.58562911 -3.87258244]\n",
      "331: [10.42579937  1.58562994 -3.87258458]\n",
      "332: [10.42579556  1.58563077 -3.8725915 ]\n",
      "333: [10.42579269  1.58563256 -3.87259483]\n",
      "334: [10.42578983  1.5856334  -3.87259889]\n",
      "335: [10.42578793  1.58563256 -3.87260199]\n",
      "336: [10.42578506  1.58563161 -3.87260628]\n",
      "337: [10.42578125  1.58563077 -3.87261105]\n",
      "338: [10.42577934  1.58562994 -3.87261391]\n",
      "339: [10.42577839  1.58562815 -3.87261581]\n",
      "340: [10.42577744  1.58562195 -3.87262034]\n",
      "341: [10.42577648  1.58561921 -3.87262297]\n",
      "342: [10.42577457  1.58561265 -3.87262702]\n",
      "343: [10.42577362  1.58560991 -3.87262917]\n",
      "344: [10.42577171  1.58560801 -3.87263083]\n",
      "345: [10.42577076  1.58560705 -3.87263155]\n",
      "346: [10.42576885  1.58560419 -3.8726337 ]\n",
      "347: [10.4257679   1.58560324 -3.87263465]\n",
      "348: [10.42576694  1.58560228 -3.87263536]\n",
      "349: [10.42576313  1.58560121 -3.87263799]\n",
      "350: [10.42575455  1.5855993  -3.87264228]\n",
      "351: [10.42573738  1.58560026 -3.87264705]\n",
      "352: [10.42573643  1.58560228 -3.87264681]\n",
      "353: [10.42573929  1.58560705 -3.87264514]\n",
      "354: [10.4257412   1.58560991 -3.87264395]\n",
      "355: [10.42574406  1.5856117  -3.87264252]\n",
      "356: [10.42574596  1.58561265 -3.8726418 ]\n",
      "357: [10.42574787  1.58561361 -3.87264085]\n",
      "358: [10.42575073  1.58561456 -3.87263942]\n",
      "359: [10.42575455  1.58561647 -3.87263751]\n",
      "360: [10.42575836  1.58562016 -3.87263393]\n",
      "361: [10.42576027  1.58562195 -3.87263203]\n",
      "362: [10.42576218  1.58562279 -3.87263083]\n",
      "363: [10.42576694  1.58562458 -3.87262702]\n",
      "364: [10.42577171  1.58562553 -3.87262344]\n",
      "365: [10.42577553  1.58562636 -3.87261939]\n",
      "366: [10.42577934  1.58562732 -3.87261558]\n",
      "367: [10.4257822   1.58562911 -3.87261176]\n",
      "368: [10.42578602  1.58562815 -3.87260747]\n",
      "369: [ 8.97095966  1.58608997 -2.6516099 ]\n",
      "370: [ 8.97096062  1.58609092 -2.65160918]\n",
      "371: [ 8.9709568   1.58610666 -2.65161204]\n",
      "372: [ 8.9709549   1.58611047 -2.65161228]\n",
      "373: [ 8.97095013  1.5861181  -2.6516149 ]\n",
      "374: [ 8.97094727  1.58612084 -2.65161633]\n",
      "375: [ 8.97094345  1.58612645 -2.65161729]\n",
      "376: [ 8.97093868  1.5861336  -2.65161705]\n",
      "377: [ 8.97093391  1.58613968 -2.6516161 ]\n",
      "378: [ 8.9709301   1.58614314 -2.65161633]\n",
      "379: [ 8.97092819  1.58614635 -2.6516149 ]\n",
      "380: [ 8.97092628  1.58614802 -2.65161514]\n",
      "381: [ 8.95555019  1.57519996 -1.73654997]\n",
      "382: [ 8.9555521   1.57520199 -1.73654985]\n",
      "383: [ 8.95555401  1.57520485 -1.73654974]\n",
      "384: [ 8.95555782  1.57521081 -1.7365489 ]\n",
      "385: [ 8.95556164  1.57521665 -1.73654759]\n",
      "386: [ 8.9555645   1.57521951 -1.73654652]\n",
      "387: [ 8.95556736  1.57522237 -1.73654544]\n",
      "388: [ 8.95556831  1.57522333 -1.73654497]\n",
      "389: [ 8.95556927  1.57522523 -1.73654413]\n",
      "390: [ 8.95557022  1.5752281  -1.73654306]\n",
      "391: [ 8.95557117  1.57522893 -1.73654258]\n",
      "392: [ 8.95557213  1.57522988 -1.73654211]\n",
      "393: [ 8.95557785  1.57523274 -1.73653924]\n",
      "394: [ 8.95558357  1.57523358 -1.73653674]\n",
      "395: [ 8.9555912   1.57523632 -1.73653233]\n",
      "396: [ 8.95559216  1.57523727 -1.73653114]\n",
      "397: [ 8.95559502  1.57523823 -1.73652947]\n",
      "398: [ 8.95559692  1.57523906 -1.73652768]\n",
      "399: [ 8.95559788  1.57524085 -1.73652613]\n",
      "400: [ 8.95559978  1.5752418  -1.73652422]\n",
      "401: [ 8.95560074  1.57524085 -1.73652411]\n",
      "402: [ 8.95559406  1.57523906 -1.73652911]\n",
      "403: [ 8.95558548  1.57523549 -1.73653543]\n",
      "404: [ 8.77027035  1.58197999 -0.53471601]\n",
      "405: [ 8.77026939  1.58199859 -0.5347144 ]\n",
      "406: [ 8.77026653  1.5820024  -0.53471398]\n",
      "407: [ 8.77026463  1.58200526 -0.53471357]\n",
      "408: [ 8.77026367  1.58201003 -0.53471231]\n",
      "409: [8.77398968 1.59265995 0.35179999]\n",
      "410: [8.77399063 1.5926708  0.35180044]\n",
      "411: [8.77398777 1.59268808 0.35180372]\n",
      "412: [8.77398491 1.59269655 0.35180661]\n",
      "413: [8.773983   1.59269834 0.35180748]\n",
      "414: [8.77398014 1.59270108 0.35180888]\n",
      "415: [8.77397919 1.59270203 0.35180935]\n",
      "416: [8.77397823 1.59270287 0.35180989]\n",
      "417: [8.77397728 1.59270465 0.35181096]\n",
      "418: [8.77397633 1.59270549 0.35181153]\n",
      "419: [8.77394867 1.59270644 0.35182109]\n",
      "420: [8.77394485 1.5927099  0.35182571]\n",
      "421: [8.77393913 1.59271157 0.35183081]\n",
      "422: [8.77392673 1.5927124  0.35184258]\n",
      "423: [8.7739172  1.59271324 0.35185641]\n",
      "424: [8.77391529 1.59271407 0.35186031]\n",
      "425: [8.77391624 1.59271896 0.35186613]\n",
      "426: [8.7739172  1.59272063 0.35186735]\n",
      "427: [8.77391815 1.59272289 0.35186949]\n",
      "428: [8.77392101 1.59272599 0.35186839]\n",
      "429: [8.77392292 1.59272671 0.35186663]\n",
      "430: [8.7739439  1.59272742 0.35184136]\n",
      "431: [8.77394581 1.59272814 0.35184097]\n",
      "432: [8.77394962 1.59272742 0.35183749]\n",
      "433: [8.77395248 1.59272671 0.3518346 ]\n",
      "434: [8.77395439 1.59272599 0.35183296]\n",
      "435: [8.7739563  1.59272528 0.35183135]\n",
      "436: [8.77395535 1.59272444 0.35183081]\n",
      "437: [8.7739563  1.59272218 0.35182849]\n",
      "438: [8.77395725 1.59271979 0.35182622]\n",
      "439: [8.77395821 1.59271896 0.35182506]\n",
      "440: [8.77396107 1.59271324 0.35181972]\n",
      "441: [8.77396679 1.5927099  0.35181603]\n",
      "442: [8.7739687  1.59270728 0.351814  ]\n",
      "443: [8.77396965 1.59270644 0.35181314]\n",
      "444: [8.77397156 1.59270549 0.35181233]\n",
      "445: [8.77397442 1.59270203 0.35181016]\n",
      "446: [8.77397537 1.59270012 0.35180908]\n",
      "447: [8.77397633 1.59269464 0.35180685]\n",
      "448: [8.77397728 1.59263098 0.3518056 ]\n",
      "449: [8.77397633 1.59262729 0.351807  ]\n",
      "450: [8.77397537 1.59262359 0.35180852]\n",
      "451: [8.77397346 1.59261477 0.35181305]\n",
      "452: [8.77397251 1.59261298 0.35181412]\n",
      "453: [8.77397346 1.59261215 0.3518146 ]\n",
      "454: [8.77397251 1.59261048 0.35181573]\n",
      "455: [8.77397156 1.59260964 0.35181639]\n",
      "456: [8.7739706  1.59261477 0.35181376]\n",
      "457: [8.7739687  1.59262276 0.35181034]\n",
      "458: [8.77396584 1.59263289 0.3518073 ]\n",
      "459: [8.77396202 1.59264338 0.35180566]\n",
      "460: [8.77396107 1.59265316 0.35180473]\n",
      "461: [8.77396011 1.5926708  0.35180515]\n",
      "462: [8.77395916 1.59268236 0.35180748]\n",
      "463: [8.77395821 1.59268713 0.35180891]\n",
      "464: [8.77395916 1.59269094 0.35180992]\n",
      "465: [8.77395821 1.5926919  0.35181051]\n",
      "466: [8.77395725 1.59269559 0.35181203]\n",
      "467: [8.77395821 1.5926975  0.35181269]\n",
      "468: [8.7739563  1.59269929 0.35181403]\n",
      "469: [8.77395725 1.59270203 0.3518151 ]\n",
      "470: [8.77395821 1.59270287 0.35181516]\n",
      "471: [8.77395916 1.5927037  0.35181522]\n",
      "472: [8.77396011 1.59270465 0.35181531]\n",
      "473: [8.77396107 1.59270549 0.35181513]\n",
      "474: [8.77396488 1.59270644 0.35181448]\n",
      "475: [8.77397156 1.59270728 0.3518132 ]\n"
     ]
    }
   ],
   "source": [
    "last_scene_position = np.zeros((1,3))\n",
    "i=0\n",
    "for pose in poses:\n",
    "    if np.all(last_scene_position != pose[:3,3]):\n",
    "        print(f'{i}: {pose[:3,3]}')\n",
    "        last_scene_position = pose[:3,3]\n",
    "        i+=1"
   ]
  },
  {
   "cell_type": "code",
   "execution_count": 151,
   "id": "ff0675c7-ec61-4167-9d32-023b76c460b1",
   "metadata": {},
   "outputs": [
    {
     "name": "stdout",
     "output_type": "stream",
     "text": [
      "[ 8.95555019  1.57519996 -1.73654997]\n"
     ]
    }
   ],
   "source": [
    "scene_pos = poses[5000][:3, 3]\n",
    "print(scene_pos)"
   ]
  },
  {
   "cell_type": "code",
   "execution_count": 152,
   "id": "5ca039bd-3b93-4b73-9165-3ad5c3f2646d",
   "metadata": {},
   "outputs": [
    {
     "data": {
      "text/plain": [
       "array([[-9.99858856e-01, -2.00965253e-04,  1.67984199e-02,\n",
       "         8.95555019e+00],\n",
       "       [ 0.00000000e+00,  9.99928474e-01,  1.19624864e-02,\n",
       "         1.57519996e+00],\n",
       "       [-1.67996213e-02,  1.19607979e-02, -9.99787331e-01,\n",
       "        -1.73654997e+00],\n",
       "       [ 0.00000000e+00,  0.00000000e+00,  0.00000000e+00,\n",
       "         1.00000000e+00]])"
      ]
     },
     "execution_count": 152,
     "metadata": {},
     "output_type": "execute_result"
    }
   ],
   "source": [
    "poses[5000]"
   ]
  },
  {
   "cell_type": "code",
   "execution_count": 153,
   "id": "77355284-8063-493d-a3f0-c43785c4e3b3",
   "metadata": {},
   "outputs": [
    {
     "data": {
      "text/plain": [
       "array([[-9.99858856e-01, -2.00965253e-04,  1.67984199e-02],\n",
       "       [ 0.00000000e+00,  9.99928474e-01,  1.19624864e-02],\n",
       "       [-1.67996213e-02,  1.19607979e-02, -9.99787331e-01]])"
      ]
     },
     "execution_count": 153,
     "metadata": {},
     "output_type": "execute_result"
    }
   ],
   "source": [
    "rotation_pose = poses[5000][:3,:3]\n",
    "rotation_pose"
   ]
  },
  {
   "cell_type": "code",
   "execution_count": 154,
   "id": "43a8ea59-aca3-4f38-a91d-69c260180775",
   "metadata": {},
   "outputs": [],
   "source": [
    "rotation_matrix = mn.Matrix3(rotation_pose)\n",
    "rotation_quaternion = mn.Quaternion.from_matrix(rotation_matrix)\n",
    "agent_rotation = utils.quat_from_magnum(rotation_quaternion)"
   ]
  },
  {
   "cell_type": "code",
   "execution_count": 65,
   "id": "aba525d8-9e88-4b41-a786-d61ee35cbcef",
   "metadata": {},
   "outputs": [],
   "source": [
    "import math"
   ]
  },
  {
   "cell_type": "code",
   "execution_count": 155,
   "id": "4a51a205-2a1d-4a49-b799-b25254a9504b",
   "metadata": {},
   "outputs": [],
   "source": [
    "agent_forward = rotation_quaternion.transform_vector(mn.Vector3(0, 0, -1.0))\n",
    "agent_rotation = math.atan2(agent_forward[0], agent_forward[2])"
   ]
  },
  {
   "cell_type": "code",
   "execution_count": 156,
   "id": "828e1253-e36f-4c3a-9f88-c50966406066",
   "metadata": {},
   "outputs": [
    {
     "name": "stdout",
     "output_type": "stream",
     "text": [
      "-0.016800412308374972\n"
     ]
    }
   ],
   "source": [
    "print(agent_rotation)\n",
    "#agent_rotation = 0.8"
   ]
  },
  {
   "cell_type": "code",
   "execution_count": 127,
   "id": "a98c9f0a-674a-4a8c-89b6-d001b5f7a2e6",
   "metadata": {},
   "outputs": [],
   "source": [
    "# convert 3d points to 2d topdown coordinates\n",
    "def convert_points_to_topdown(pathfinder, points, meters_per_pixel):\n",
    "    points_topdown = []\n",
    "    bounds = pathfinder.get_bounds()\n",
    "    for point in points:\n",
    "        # convert 3D x,z to topdown x,y\n",
    "        px = (point[0] - bounds[0][0]) / meters_per_pixel\n",
    "        py = (point[2] - bounds[0][2]) / meters_per_pixel\n",
    "        points_topdown.append(np.array([px, py]))\n",
    "    return points_topdown\n",
    "\n",
    "\n",
    "# display a topdown map with matplotlib\n",
    "def display_map(topdown_map, key_points=None):\n",
    "    plt.figure(figsize=(12, 8))\n",
    "    ax = plt.subplot(1, 1, 1)\n",
    "    #ax.axis(\"off\")\n",
    "    plt.imshow(topdown_map)\n",
    "    # plot points on map\n",
    "    if key_points is not None:\n",
    "        for point in key_points:\n",
    "            plt.plot(point[0], point[1], marker=\"o\", markersize=10, alpha=0.8)\n",
    "            print(f'Adding point to {point[0]}, {point[1]}')\n",
    "    plt.show(block=False)"
   ]
  },
  {
   "cell_type": "code",
   "execution_count": 157,
   "id": "b0b6f726-fb13-47d5-9960-8564cc856f5d",
   "metadata": {},
   "outputs": [
    {
     "name": "stdout",
     "output_type": "stream",
     "text": [
      "The NavMesh bounds are: (array([-1.6560249, -0.036747 , -1.929066 ], dtype=float32), array([10.140411,  5.024025,  7.325568], dtype=float32))\n"
     ]
    },
    {
     "data": {
      "image/png": "[encoded data removed]",
      "text/plain": [
       "<Figure size 1200x800 with 1 Axes>"
      ]
     },
     "metadata": {},
     "output_type": "display_data"
    }
   ],
   "source": [
    "# @markdown ###Configure Example Parameters:\n",
    "# @markdown Configure the map resolution:\n",
    "meters_per_pixel = 0.025  # @param {type:\"slider\", min:0.01, max:1.0, step:0.01}\n",
    "# @markdown ---\n",
    "# @markdown Customize the map slice height (global y coordinate):\n",
    "custom_height = False  # @param {type:\"boolean\"}\n",
    "height = 1  # @param {type:\"slider\", min:-10, max:10, step:0.1}\n",
    "# @markdown If not using custom height, default to scene lower limit.\n",
    "# @markdown (Cell output provides scene height range from bounding box for reference.)\n",
    "\n",
    "print(\"The NavMesh bounds are: \" + str(sim.pathfinder.get_bounds()))\n",
    "if not custom_height:\n",
    "    # get bounding box minimum elevation for automatic height\n",
    "    height = sim.pathfinder.get_bounds()[0][1]\n",
    "\n",
    "if not sim.pathfinder.is_loaded:\n",
    "    print(\"Pathfinder not initialized, aborting.\")\n",
    "else:\n",
    "    if display:\n",
    "        hablab_topdown_map = maps.get_topdown_map(\n",
    "            sim.pathfinder, height, meters_per_pixel=meters_per_pixel\n",
    "        )\n",
    "        recolor_map = np.array(\n",
    "            [[255, 255, 255], [128, 128, 128], [0, 0, 0]], dtype=np.uint8\n",
    "        )\n",
    "        hablab_topdown_map = recolor_map[hablab_topdown_map]\n",
    "\n",
    "        grid_dimensions = (hablab_topdown_map.shape[0], hablab_topdown_map.shape[1])\n",
    "        agent_grid_pos = maps.to_grid(scene_pos[2], scene_pos[0], grid_dimensions, pathfinder=sim.pathfinder)\n",
    "        maps.draw_agent(hablab_topdown_map, agent_grid_pos, agent_rotation, agent_radius_px=5)\n",
    "\n",
    "        \n",
    "        #print(\"Displaying the map from the Habitat-Lab maps module:\")\n",
    "        display_map(hablab_topdown_map)\n",
    "        \n",
    "        # easily save a map to file:\n",
    "        #map_filename = f\"top_down_map.png\"\n",
    "        #imageio.imsave(f'/home/wes/Documents/test_development/outputs/{map_filename}', hablab_topdown_map)"
   ]
  },
  {
   "cell_type": "code",
   "execution_count": 62,
   "id": "9a97e6cb-37d0-421b-89e3-4247ffdf9127",
   "metadata": {},
   "outputs": [
    {
     "data": {
      "text/plain": [
       "\"You begin looking towards a corner with a very interesting... I wanna call it a mural but it's not... It's kinda like a collage of words on your right. It's one of the- one of the art pieces that I've seen in this thing that I- I actually kinda like that one, y'know? It has artistic merit to it, it's not just blobs and splatters... And a window to the left! Turn around completely and move towards what looks like a copy of the last supper, and then turn right and move to the near left corner of the dining table with a bunch of black chairs around it. Once you've moved towards that once you won't really be quite to it but you're gonna move towards the far left corner now, just passing it on your right. Continue, go around the staircase in front of you to the head of the stairs, and you're gonna go down that staircase.Once you've reached the bottom of the staircase, the electric guitar and Einstein, turn and enter the open door to the left, and as soon as you're in there, just go straight forward, keeping the bed on your right, until you are under the TV, and over the little hopper full of toys, I guess?  I don't know what to call that thing... It's cubbies, I guess? Anyways once you're below the TV and over the cubbies of toys, you're done.\""
      ]
     },
     "execution_count": 62,
     "metadata": {},
     "output_type": "execute_result"
    }
   ],
   "source": [
    "df_instruction[df_instruction['instruction_id']==instruction_id]['instruction'].iloc[0]"
   ]
  },
  {
   "cell_type": "code",
   "execution_count": 158,
   "id": "f505f64e-b18a-41ec-87df-ac2417829f65",
   "metadata": {},
   "outputs": [],
   "source": [
    "agent = sim.get_agent(0)"
   ]
  },
  {
   "cell_type": "code",
   "execution_count": 159,
   "id": "9076313b-4d57-4feb-bd91-25c153b24658",
   "metadata": {},
   "outputs": [],
   "source": [
    "agent_state = habitat_sim.AgentState()"
   ]
  },
  {
   "cell_type": "code",
   "execution_count": 160,
   "id": "7a96604c-4a36-4242-9d79-bbd1fd46c003",
   "metadata": {},
   "outputs": [],
   "source": [
    "agent_state.position = scene_pos\n",
    "agent_state.rotation = utils.quat_from_magnum(rotation_quaternion)"
   ]
  },
  {
   "cell_type": "code",
   "execution_count": 161,
   "id": "60331212-de22-468e-ac4f-511755ac1dd7",
   "metadata": {},
   "outputs": [],
   "source": [
    "agent.set_state(agent_state)"
   ]
  },
  {
   "cell_type": "code",
   "execution_count": 162,
   "id": "27e8200a-b305-4785-9237-7c96c0d45759",
   "metadata": {},
   "outputs": [],
   "source": [
    "observations = sim.get_sensor_observations()"
   ]
  },
  {
   "cell_type": "code",
   "execution_count": 163,
   "id": "00d7415c-f634-4a06-a876-9d54b2757e4c",
   "metadata": {},
   "outputs": [],
   "source": [
    "rgb = observations['color_sensor']\n",
    "depth = observations['depth_sensor']"
   ]
  },
  {
   "cell_type": "code",
   "execution_count": 164,
   "id": "48d84ef6-d6d2-4234-b1d1-309069cebc25",
   "metadata": {},
   "outputs": [
    {
     "data": {
      "image/png": "[encoded data removed]",
      "text/plain": [
       "<Figure size 1200x800 with 2 Axes>"
      ]
     },
     "metadata": {},
     "output_type": "display_data"
    }
   ],
   "source": [
    "display_sample(rgb, np.array([]), depth)"
   ]
  },
  {
   "cell_type": "code",
   "execution_count": 165,
   "id": "bbfeb2a7-8c30-4fbb-9674-d7c4fc406ae9",
   "metadata": {},
   "outputs": [
    {
     "data": {
      "text/plain": [
       "False"
      ]
     },
     "execution_count": 165,
     "metadata": {},
     "output_type": "execute_result"
    }
   ],
   "source": [
    "sim.pathfinder.is_navigable(scene_pos)"
   ]
  },
  {
   "cell_type": "code",
   "execution_count": 166,
   "id": "1a26dd4c-e433-4c53-ad0c-4b7b6871ed85",
   "metadata": {},
   "outputs": [
    {
     "name": "stdout",
     "output_type": "stream",
     "text": [
      "[ 8.95555  1.5752  -1.73655]\n",
      "[ 8.95555019  1.57519996 -1.73654997]\n"
     ]
    }
   ],
   "source": [
    "print(agent.get_state().position)\n",
    "print(scene_pos)"
   ]
  }
 ],
 "metadata": {
  "kernelspec": {
   "display_name": "Python 3 (ipykernel)",
   "language": "python",
   "name": "python3"
  },
  "language_info": {
   "codemirror_mode": {
    "name": "ipython",
    "version": 3
   },
   "file_extension": ".py",
   "mimetype": "text/x-python",
   "name": "python",
   "nbconvert_exporter": "python",
   "pygments_lexer": "ipython3",
   "version": "3.9.19"
  }
 },
 "nbformat": 4,
 "nbformat_minor": 5
}
