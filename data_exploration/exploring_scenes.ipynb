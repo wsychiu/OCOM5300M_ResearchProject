{
 "cells": [
  {
   "cell_type": "markdown",
   "id": "680ad8b7-7581-4ba3-abc1-766bf4857e0f",
   "metadata": {},
   "source": [
    "# Preamble\n",
    "Setting up:\n",
    " - Required modules\n",
    " - Folder paths\n",
    " - Useful functions"
   ]
  },
  {
   "cell_type": "code",
   "execution_count": 1,
   "id": "2da0df8e-8d08-49b4-9ec4-3d09822df556",
   "metadata": {},
   "outputs": [],
   "source": [
    "# Required imports\n",
    "\n",
    "import os\n",
    "import json\n",
    "import numpy as np\n",
    "import pandas as pd\n",
    "import random\n",
    "import imageio\n",
    "import magnum as mn\n",
    "from PIL import Image\n",
    "from matplotlib import pyplot as plt\n",
    "\n",
    "import habitat_sim\n",
    "from habitat_sim.utils import common as utils\n",
    "from habitat_sim.utils import viz_utils as vut"
   ]
  },
  {
   "cell_type": "code",
   "execution_count": 2,
   "id": "e508ac6c-f689-4888-942e-6a230bbaa51f",
   "metadata": {},
   "outputs": [],
   "source": [
    "# setting up folder paths\n",
    "habitat_dir_path = \"/home/wes/habitat/data/\"\n",
    "scene_dir_path = os.path.join(habitat_dir_path, f\"scene_datasets/mp3d/\")\n",
    "rxr_data_path = \"/media/wes/Lexar/rxr_data/rxr-data/\"\n",
    "output_path = \"/home/wes/Documents/git_ws/OCOM5300M_ResearchProject/outputs/\"\n",
    "\n",
    "annotations_fname = \"rxr_train_guide.jsonl/rxr_train_guide.json\"\n",
    "annotations_path = os.path.join(rxr_data_path, annotations_fname)\n",
    "\n",
    "mp3d_scene_config = os.path.join(scene_dir_path, f\"mp3d.scene_dataset_config.json\")\n",
    "\n",
    "def get_scene_path(scene_dir_path, scene_id):\n",
    "    return os.path.join(scene_dir_path, f\"{scene_id}/{scene_id}.glb\")"
   ]
  },
  {
   "cell_type": "code",
   "execution_count": 3,
   "id": "d749e10d-0c13-42fa-9a91-d4cc12bce250",
   "metadata": {},
   "outputs": [
    {
     "name": "stdout",
     "output_type": "stream",
     "text": [
      "mp3d_scene_config: /home/wes/habitat/data/scene_datasets/mp3d/mp3d.scene_dataset_config.json, exists: True\n",
      "scene_path: /home/wes/habitat/data/scene_datasets/mp3d/17DRP5sb8fy/17DRP5sb8fy.glb, exists: True\n",
      "annotations_path: /media/wes/Lexar/rxr_data/rxr-data/rxr_train_guide.jsonl/rxr_train_guide.json, exists: True\n"
     ]
    }
   ],
   "source": [
    "scene_id = \"17DRP5sb8fy\"\n",
    "scene_path = get_scene_path(scene_dir_path, scene_id)\n",
    "\n",
    "print(f\"mp3d_scene_config: {mp3d_scene_config}, exists: {os.path.exists(mp3d_scene_config)}\")\n",
    "print(f\"scene_path: {scene_path}, exists: {os.path.exists(scene_path)}\")\n",
    "print(f\"annotations_path: {annotations_path}, exists: {os.path.exists(annotations_path)}\")"
   ]
  },
  {
   "cell_type": "markdown",
   "id": "9c1412c8-7272-4ddb-9fb4-300a87c22683",
   "metadata": {},
   "source": [
    "## Preamble: Utility Functions\n",
    "### Display observations"
   ]
  },
  {
   "cell_type": "code",
   "execution_count": 4,
   "id": "4d6ec995-cb0f-4f73-be60-288d87c61fe1",
   "metadata": {},
   "outputs": [
    {
     "name": "stderr",
     "output_type": "stream",
     "text": [
      "PluginManager::Manager: duplicate static plugin StbImageImporter, ignoring\n",
      "PluginManager::Manager: duplicate static plugin GltfImporter, ignoring\n",
      "PluginManager::Manager: duplicate static plugin BasisImporter, ignoring\n",
      "PluginManager::Manager: duplicate static plugin AssimpImporter, ignoring\n",
      "PluginManager::Manager: duplicate static plugin AnySceneImporter, ignoring\n",
      "PluginManager::Manager: duplicate static plugin AnyImageImporter, ignoring\n"
     ]
    }
   ],
   "source": [
    "# Change to do something like this maybe: https://stackoverflow.com/a/41432704\n",
    "#    i.e. show multiple subplots on one plot\n",
    "def display_sample(rgb_obs, semantic_obs=np.array([]), depth_obs=np.array([])):\n",
    "    from habitat_sim.utils.common import d3_40_colors_rgb\n",
    "\n",
    "    rgb_img = Image.fromarray(rgb_obs, mode=\"RGBA\")\n",
    "\n",
    "    arr = [rgb_img]\n",
    "    titles = [\"rgb\"]\n",
    "    if semantic_obs.size != 0:\n",
    "        semantic_img = Image.new(\"P\", (semantic_obs.shape[1], semantic_obs.shape[0]))\n",
    "        semantic_img.putpalette(d3_40_colors_rgb.flatten())\n",
    "        semantic_img.putdata((semantic_obs.flatten() % 40).astype(np.uint8))\n",
    "        semantic_img = semantic_img.convert(\"RGBA\")\n",
    "        arr.append(semantic_img)\n",
    "        titles.append(\"semantic\")\n",
    "\n",
    "    if depth_obs.size != 0:\n",
    "        depth_img = Image.fromarray((depth_obs / 10 * 255).astype(np.uint8), mode=\"L\")\n",
    "        arr.append(depth_img)\n",
    "        titles.append(\"depth\")\n",
    "\n",
    "    plt.figure(figsize=(12, 8))\n",
    "    for i, data in enumerate(arr):\n",
    "        ax = plt.subplot(1, 3, i + 1)\n",
    "        ax.axis(\"off\")\n",
    "        ax.set_title(titles[i])\n",
    "        plt.imshow(data)\n",
    "    plt.show(block=False)\n",
    "\n",
    "\n",
    "if __name__ == \"__main__\":\n",
    "    import argparse\n",
    "\n",
    "    parser = argparse.ArgumentParser()\n",
    "    parser.add_argument(\"--no-display\", dest=\"display\", action=\"store_false\")\n",
    "    parser.add_argument(\"--no-make-video\", dest=\"make_video\", action=\"store_false\")\n",
    "    parser.set_defaults(show_video=True, make_video=True)\n",
    "    args, _ = parser.parse_known_args()\n",
    "    show_video = args.display\n",
    "    display = args.display\n",
    "    do_make_video = args.make_video\n",
    "else:\n",
    "    show_video = False\n",
    "    do_make_video = False\n",
    "    display = False\n",
    "\n",
    "# import the maps module alone for topdown mapping\n",
    "if display:\n",
    "    from habitat.utils.visualizations import maps"
   ]
  },
  {
   "cell_type": "markdown",
   "id": "d3b10467-3597-4957-af01-020422dd93ef",
   "metadata": {},
   "source": [
    "### Configuring Simulator Settings"
   ]
  },
  {
   "cell_type": "code",
   "execution_count": 7,
   "id": "d2a1f834-b92d-4cb8-8861-3fe93ea19209",
   "metadata": {},
   "outputs": [],
   "source": [
    "# Default sim settings\n",
    "rgb_sensor = True\n",
    "depth_sensor = True\n",
    "semantic_sensor = False\n",
    "seed = 1\n",
    "\n",
    "sim_settings = {\n",
    "    \"width\": 256,  # Spatial resolution of the observations\n",
    "    \"height\": 256,\n",
    "    \"scene\": scene_path,  # Scene path\n",
    "    \"scene_dataset\": mp3d_scene_config,  # the scene dataset configuration files\n",
    "    \"default_agent\": 0,\n",
    "    \"sensor_height\": 1.5,  # Height of sensors in meters\n",
    "    \"color_sensor\": rgb_sensor,  # RGB sensor\n",
    "    \"depth_sensor\": depth_sensor,  # Depth sensor\n",
    "    \"semantic_sensor\": semantic_sensor,  # Semantic sensor\n",
    "    \"seed\": seed,  # used in the random navigation\n",
    "    \"enable_physics\": False,  # kinematics only    \n",
    "}"
   ]
  },
  {
   "cell_type": "code",
   "execution_count": 8,
   "id": "ea2168b9-4791-46a7-938a-01db7187f7e9",
   "metadata": {},
   "outputs": [],
   "source": [
    "# Sim config factory?\n",
    "def make_cfg(settings):\n",
    "    sim_cfg = habitat_sim.SimulatorConfiguration()\n",
    "    sim_cfg.gpu_device_id = 0\n",
    "    sim_cfg.scene_id = settings[\"scene\"]\n",
    "    sim_cfg.scene_dataset_config_file = settings[\"scene_datasets\"]\n",
    "    sim_cfg.enable_physics = settings[\"enable_physics\"]\n",
    "\n",
    "    # sensor specs\n",
    "    sensor_specs = []\n",
    "\n",
    "    color_sensor_spec = habitat_sim.CameraSensorSpec()\n",
    "    color_sensor_spec.uuid = \"color_sensor\"\n",
    "    color_sensor_spec.sensor_type = habitat_sim.SensorType.COLOR\n",
    "    color_sensor_spec.resolution = [settings[\"height\"], settings[\"width\"]]\n",
    "    color_sensor_spec.position = [0.0, settings[\"sensor_height\"], 0.0]\n",
    "    color_sensor_spec.sensor_subtype = habitat_sim.SensorSubType.FISHEYE\n",
    "    sensor_specs.append(color_sensor_spec)\n",
    "\n",
    "    depth_sensor_spec = habitat_sim.CameraSensorSpec()\n",
    "    depth_sensor_spec.uuid = \"depth_sensor\"\n",
    "    depth_sensor_spec.sensor_type = habitat_sim.SensorType.DEPTH\n",
    "    depth_sensor_spec.resolution = [settings[\"height\"], settings[\"width\"]]\n",
    "    depth_sensor_spec.position = [0.0, settings[\"sensor_height\"], 0.0]\n",
    "    depth_sensor_spec.sensor_subtype = habitat_sim.SensorSubType.FISHEYE\n",
    "    sensor_specs.append(depth_sensor_spec)\n",
    "\n",
    "    #agent movement\n",
    "    agent_cfg = habitat_sim.agent.AgentConfiguration()\n",
    "    agent_cfg.sensor_specifications = sensor_specs\n",
    "    agent_cfg.action_space = {\n",
    "        \"move_forward\" : habitat_sim.agent.ActionSpec(\n",
    "            \"move_forward\", habitat_sim.agent.ActuationSpec(amount=0.25)\n",
    "        ),\n",
    "        \"turn_left\":habitat_sim.agent.ActionSpec(\n",
    "            \"turn_left\", habitat_sim.agent.ActuationSpec(amount=30.0)\n",
    "        ),\n",
    "        \"turn_right\":habitat_sim.agent.ActionSpec(\n",
    "            \"turn_right\", habitat_sim.agent.ActuationSpec(amount=30.0)\n",
    "        )\n",
    "    }\n",
    "    return habitat_sim.Configuration(sim_cfg, [agent_cfg])"
   ]
  },
  {
   "cell_type": "code",
   "execution_count": null,
   "id": "1b27ad87-9ead-402f-b603-46c8d2ed7c6b",
   "metadata": {},
   "outputs": [],
   "source": []
  }
 ],
 "metadata": {
  "kernelspec": {
   "display_name": "Python 3 (ipykernel)",
   "language": "python",
   "name": "python3"
  },
  "language_info": {
   "codemirror_mode": {
    "name": "ipython",
    "version": 3
   },
   "file_extension": ".py",
   "mimetype": "text/x-python",
   "name": "python",
   "nbconvert_exporter": "python",
   "pygments_lexer": "ipython3",
   "version": "3.9.19"
  }
 },
 "nbformat": 4,
 "nbformat_minor": 5
}
